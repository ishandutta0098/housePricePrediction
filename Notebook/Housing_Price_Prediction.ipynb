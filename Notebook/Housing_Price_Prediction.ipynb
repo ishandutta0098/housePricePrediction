{
  "nbformat": 4,
  "nbformat_minor": 0,
  "metadata": {
    "colab": {
      "name": "Housing Price Prediction.ipynb",
      "provenance": [],
      "collapsed_sections": [
        "AKbssrJLUS3H",
        "w6FTYkOoU2w6",
        "X_5W9XQcWOMO",
        "9qZivSJM_VKo",
        "tmJPWHpV_yF6",
        "oMdesfUxApTc",
        "XxFJS-6_AG2g",
        "mqcBUWxwX6rg",
        "XK3usynV8hvn",
        "uudiS2eN3QBO",
        "-EKxowdcQcdz",
        "jHs7UzdFPGbx",
        "EEsW9D03YZOA",
        "nwpU9ffeWzUe"
      ]
    },
    "kernelspec": {
      "name": "python3",
      "display_name": "Python 3"
    }
  },
  "cells": [
    {
      "cell_type": "code",
      "metadata": {
        "id": "cWcQ2a5sUfhv",
        "colab": {
          "base_uri": "https://localhost:8080/"
        },
        "outputId": "2e327fe7-3c3f-4ce7-b369-333025a8c818"
      },
      "source": [
        "from google.colab import drive\n",
        "drive.mount('/content/MyDrive')\n",
        "\n",
        "from google.colab import files"
      ],
      "execution_count": null,
      "outputs": [
        {
          "output_type": "stream",
          "text": [
            "Drive already mounted at /content/MyDrive; to attempt to forcibly remount, call drive.mount(\"/content/MyDrive\", force_remount=True).\n"
          ],
          "name": "stdout"
        }
      ]
    },
    {
      "cell_type": "markdown",
      "metadata": {
        "id": "AKbssrJLUS3H"
      },
      "source": [
        "# 1. Libraries \n",
        "<a name = \"Libraries\"></a>"
      ]
    },
    {
      "cell_type": "code",
      "metadata": {
        "id": "AhlgsW0QTu6i",
        "colab": {
          "base_uri": "https://localhost:8080/"
        },
        "outputId": "562a3743-86fe-47ae-feb4-9ed25512938e"
      },
      "source": [
        "#Import Libraries\n",
        "\n",
        "import pandas as pd  \n",
        "import numpy as np\n",
        "\n",
        "#Data Visualization\n",
        "import seaborn as sns\n",
        "import matplotlib.pyplot as plt\n",
        "%matplotlib inline\n",
        "plt.style.use('seaborn-dark')\n",
        "\n",
        "#Data Preprocessing\n",
        "from sklearn.preprocessing import StandardScaler, LabelEncoder\n",
        "from sklearn.model_selection import train_test_split, GridSearchCV, RandomizedSearchCV\n",
        "\n",
        "#NLP\n",
        "from sklearn.feature_extraction.text import CountVectorizer\n",
        "\n",
        "#WordCloud\n",
        "from wordcloud import WordCloud, STOPWORDS\n",
        "\n",
        "#Text Processing\n",
        "import re\n",
        "import nltk\n",
        "nltk.download('popular')\n",
        "\n",
        "#Language Detection\n",
        "!pip install langdetect\n",
        "import langdetect\n",
        "\n",
        "#Sentiment\n",
        "from textblob import TextBlob\n",
        "\n",
        "#ner\n",
        "import spacy\n",
        "\n",
        "#Vectorizer\n",
        "from sklearn import feature_extraction, manifold\n",
        "\n",
        "#Word Embedding\n",
        "import gensim.downloader as gensim_api\n",
        "\n",
        "#Topic Modeling\n",
        "import gensim\n",
        "\n",
        "#Model\n",
        "import tensorflow as tf\n",
        "from keras import Sequential\n",
        "from keras.layers import Dense, Dropout, Flatten\n",
        "from sklearn.metrics import mean_squared_log_error, make_scorer\n",
        "from keras.optimizers import Adam\n",
        "\n",
        "from sklearn.tree import DecisionTreeClassifier\n",
        "from sklearn.linear_model import LinearRegression\n",
        "from sklearn.ensemble import RandomForestRegressor\n",
        "from xgboost import XGBRegressor\n",
        "from lightgbm import LGBMRegressor\n",
        "\n",
        "!pip install catboost\n",
        "from catboost import CatBoostRegressor\n",
        "\n",
        "#Validation\n",
        "from sklearn.metrics import mean_squared_log_error, mean_squared_error\n",
        "from sklearn.model_selection import KFold, cross_val_score, StratifiedKFold\n",
        "\n",
        "#Location\n",
        "from geopy.distance import vincenty"
      ],
      "execution_count": null,
      "outputs": [
        {
          "output_type": "stream",
          "text": [
            "[nltk_data] Downloading collection 'popular'\n",
            "[nltk_data]    | \n",
            "[nltk_data]    | Downloading package cmudict to /root/nltk_data...\n",
            "[nltk_data]    |   Package cmudict is already up-to-date!\n",
            "[nltk_data]    | Downloading package gazetteers to /root/nltk_data...\n",
            "[nltk_data]    |   Package gazetteers is already up-to-date!\n",
            "[nltk_data]    | Downloading package genesis to /root/nltk_data...\n",
            "[nltk_data]    |   Package genesis is already up-to-date!\n",
            "[nltk_data]    | Downloading package gutenberg to /root/nltk_data...\n",
            "[nltk_data]    |   Package gutenberg is already up-to-date!\n",
            "[nltk_data]    | Downloading package inaugural to /root/nltk_data...\n",
            "[nltk_data]    |   Package inaugural is already up-to-date!\n",
            "[nltk_data]    | Downloading package movie_reviews to\n",
            "[nltk_data]    |     /root/nltk_data...\n",
            "[nltk_data]    |   Package movie_reviews is already up-to-date!\n",
            "[nltk_data]    | Downloading package names to /root/nltk_data...\n",
            "[nltk_data]    |   Package names is already up-to-date!\n",
            "[nltk_data]    | Downloading package shakespeare to /root/nltk_data...\n",
            "[nltk_data]    |   Package shakespeare is already up-to-date!\n",
            "[nltk_data]    | Downloading package stopwords to /root/nltk_data...\n",
            "[nltk_data]    |   Package stopwords is already up-to-date!\n",
            "[nltk_data]    | Downloading package treebank to /root/nltk_data...\n",
            "[nltk_data]    |   Package treebank is already up-to-date!\n",
            "[nltk_data]    | Downloading package twitter_samples to\n",
            "[nltk_data]    |     /root/nltk_data...\n",
            "[nltk_data]    |   Package twitter_samples is already up-to-date!\n",
            "[nltk_data]    | Downloading package omw to /root/nltk_data...\n",
            "[nltk_data]    |   Package omw is already up-to-date!\n",
            "[nltk_data]    | Downloading package wordnet to /root/nltk_data...\n",
            "[nltk_data]    |   Package wordnet is already up-to-date!\n",
            "[nltk_data]    | Downloading package wordnet_ic to /root/nltk_data...\n",
            "[nltk_data]    |   Package wordnet_ic is already up-to-date!\n",
            "[nltk_data]    | Downloading package words to /root/nltk_data...\n",
            "[nltk_data]    |   Package words is already up-to-date!\n",
            "[nltk_data]    | Downloading package maxent_ne_chunker to\n",
            "[nltk_data]    |     /root/nltk_data...\n",
            "[nltk_data]    |   Package maxent_ne_chunker is already up-to-date!\n",
            "[nltk_data]    | Downloading package punkt to /root/nltk_data...\n",
            "[nltk_data]    |   Package punkt is already up-to-date!\n",
            "[nltk_data]    | Downloading package snowball_data to\n",
            "[nltk_data]    |     /root/nltk_data...\n",
            "[nltk_data]    |   Package snowball_data is already up-to-date!\n",
            "[nltk_data]    | Downloading package averaged_perceptron_tagger to\n",
            "[nltk_data]    |     /root/nltk_data...\n",
            "[nltk_data]    |   Package averaged_perceptron_tagger is already up-\n",
            "[nltk_data]    |       to-date!\n",
            "[nltk_data]    | \n",
            "[nltk_data]  Done downloading collection popular\n",
            "Requirement already satisfied: langdetect in /usr/local/lib/python3.6/dist-packages (1.0.8)\n",
            "Requirement already satisfied: six in /usr/local/lib/python3.6/dist-packages (from langdetect) (1.15.0)\n",
            "Requirement already satisfied: catboost in /usr/local/lib/python3.6/dist-packages (0.24.3)\n",
            "Requirement already satisfied: matplotlib in /usr/local/lib/python3.6/dist-packages (from catboost) (3.2.2)\n",
            "Requirement already satisfied: six in /usr/local/lib/python3.6/dist-packages (from catboost) (1.15.0)\n",
            "Requirement already satisfied: scipy in /usr/local/lib/python3.6/dist-packages (from catboost) (1.4.1)\n",
            "Requirement already satisfied: pandas>=0.24.0 in /usr/local/lib/python3.6/dist-packages (from catboost) (1.1.5)\n",
            "Requirement already satisfied: graphviz in /usr/local/lib/python3.6/dist-packages (from catboost) (0.10.1)\n",
            "Requirement already satisfied: numpy>=1.16.0 in /usr/local/lib/python3.6/dist-packages (from catboost) (1.18.5)\n",
            "Requirement already satisfied: plotly in /usr/local/lib/python3.6/dist-packages (from catboost) (4.4.1)\n",
            "Requirement already satisfied: python-dateutil>=2.1 in /usr/local/lib/python3.6/dist-packages (from matplotlib->catboost) (2.8.1)\n",
            "Requirement already satisfied: pyparsing!=2.0.4,!=2.1.2,!=2.1.6,>=2.0.1 in /usr/local/lib/python3.6/dist-packages (from matplotlib->catboost) (2.4.7)\n",
            "Requirement already satisfied: cycler>=0.10 in /usr/local/lib/python3.6/dist-packages (from matplotlib->catboost) (0.10.0)\n",
            "Requirement already satisfied: kiwisolver>=1.0.1 in /usr/local/lib/python3.6/dist-packages (from matplotlib->catboost) (1.3.1)\n",
            "Requirement already satisfied: pytz>=2017.2 in /usr/local/lib/python3.6/dist-packages (from pandas>=0.24.0->catboost) (2018.9)\n",
            "Requirement already satisfied: retrying>=1.3.3 in /usr/local/lib/python3.6/dist-packages (from plotly->catboost) (1.3.3)\n"
          ],
          "name": "stdout"
        }
      ]
    },
    {
      "cell_type": "markdown",
      "metadata": {
        "id": "9CLFn_zHUhpM"
      },
      "source": [
        "# 2. Functions \n",
        "<a name = 'Functions'></a>"
      ]
    },
    {
      "cell_type": "code",
      "metadata": {
        "id": "-t1yJEHlUwcr"
      },
      "source": [
        "def predict(model): \n",
        "  \n",
        "  #Make predictions and convert to binary value  \n",
        "  pred_train = model.predict(X_train) \n",
        "  pred_train = np.abs(pred_train)\n",
        "  \n",
        "  pred_test = model.predict(X_test)   \n",
        "  pred_test = np.abs(pred_test)\n",
        "\n",
        "  #Accuracy\n",
        "  print('Train RMSLE = {:.3f}'.format(np.sqrt(mean_squared_log_error(y_train,pred_train))))\n",
        "  print('Test RMSLE = {:.3f}'.format(np.sqrt(mean_squared_log_error(y_test,pred_test))))\n",
        "\n",
        "\n",
        "def score_func(y_true, y_pred, **kwargs):\n",
        "  y_true = np.abs(y_true)\n",
        "  y_pred = np.abs(y_pred)\n",
        "\n",
        "  return np.sqrt(mean_squared_log_error(y_true, y_pred))\n",
        "\n",
        "scorer = make_scorer(score_func)\n",
        "\n",
        "def grid_results(grid):\n",
        "  print(\" Results from Grid Search \" )\n",
        "  print(\"\\n The best estimator across ALL searched params:\\n\", grid.best_estimator_)\n",
        "  print(\"\\n The best score across ALL searched params:\\n\", grid.best_score_)\n",
        "  print(\"\\n The best parameters across ALL searched params:\\n\", grid.best_params_)\n",
        "\n",
        "def join_df(train, test, log = False):\n",
        "\n",
        "  df = pd.concat([train, test], axis=0).reset_index(drop = True)\n",
        "  features = [c for c in df.columns if c not in [TARGET_COL]]\n",
        "\n",
        "  if log == True:\n",
        "    df[num_cols + [TARGET_COL]] = df[num_cols + [TARGET_COL]].apply(lambda x: np.log1p(x))\n",
        "\n",
        "  return df, features\n",
        "\n",
        "def split_df_and_get_features(df, train_nrows):\n",
        "\n",
        "  train, test = df[:train_nrows].reset_index(drop = True), df[train_nrows:].reset_index(drop = True)\n",
        "  features = [c for c in train.columns if c not in [TARGET_COL]]\n",
        "  \n",
        "  return train, test, features\n",
        "\n",
        "def run_gradient_boosting(clf, fit_params, train, test, features):\n",
        "  N_SPLITS = 5\n",
        "  oofs = np.zeros(len(train))\n",
        "  preds = np.zeros((len(test)))\n",
        "\n",
        "  target = train[TARGET_COL]\n",
        "\n",
        "  folds = StratifiedKFold(n_splits = N_SPLITS)\n",
        "  stratified_target = pd.qcut(train[TARGET_COL], 10, labels = False, duplicates='drop')\n",
        "\n",
        "  feature_importances = pd.DataFrame()\n",
        "\n",
        "  for fold_, (trn_idx, val_idx) in enumerate(folds.split(train, stratified_target)):\n",
        "    print(f'\\n------------- Fold {fold_ + 1} -------------')\n",
        "\n",
        "    ### Training Set\n",
        "    X_trn, y_trn = train[features].iloc[trn_idx], target.iloc[trn_idx]\n",
        "\n",
        "    ### Validation Set\n",
        "    X_val, y_val = train[features].iloc[val_idx], target.iloc[val_idx]\n",
        "\n",
        "    ### Test Set\n",
        "    X_test = test[features]\n",
        "\n",
        "    scaler = StandardScaler()\n",
        "    _ = scaler.fit(X_trn)\n",
        "\n",
        "    X_trn = scaler.transform(X_trn)\n",
        "    X_val = scaler.transform(X_val)\n",
        "    X_test = scaler.transform(X_test)\n",
        "    \n",
        "    _ = clf.fit(X_trn, y_trn, eval_set = [(X_val, y_val)], **fit_params)\n",
        "\n",
        "    fold_importance = pd.DataFrame({'fold': fold_ + 1, 'feature': features, 'importance': clf.feature_importances_})\n",
        "    feature_importances = pd.concat([feature_importances, fold_importance], axis=0)\n",
        "\n",
        "    ### Instead of directly predicting the classes we will obtain the probability of positive class.\n",
        "    preds_val = clf.predict(X_val)\n",
        "    preds_test = clf.predict(X_test)\n",
        "\n",
        "    fold_score = mh_metric(y_val, preds_val)\n",
        "    print(f'\\nMH metric score for validation set is {fold_score}')\n",
        "\n",
        "    oofs[val_idx] = preds_val\n",
        "    preds += preds_test / N_SPLITS\n",
        "\n",
        "\n",
        "  oofs_score = mh_metric(target, oofs)\n",
        "  print(f'\\n\\nMH metric for oofs is {oofs_score}')\n",
        "\n",
        "  feature_importances = feature_importances.reset_index(drop = True)\n",
        "  fi = feature_importances.groupby('feature')['importance'].mean().sort_values(ascending = False)[:20][::-1]\n",
        "  fi.plot(kind = 'barh', figsize=(12, 6))\n",
        "\n",
        "  return oofs, preds, fi\n",
        "\n",
        "def mh_metric(y_true, y_pred):\n",
        "  return np.sqrt(mean_squared_error(y_true, y_pred))\n",
        "\n",
        "def download_preds(preds_test, file_name = 'hacklive_sub.csv'):\n",
        "\n",
        "  ## 1. Setting the target column with our obtained predictions\n",
        "  submission['TARGET(PRICE_IN_LACS)'] = preds_test\n",
        "\n",
        "  ## 2. Saving our predictions to a csv file\n",
        "  submission.to_csv(file_name, index = False)\n",
        "\n",
        "  ## 3. Downloading and submitting the csv file\n",
        "  files.download(file_name)\n",
        "\n",
        "#Download Submission File\n",
        "def download(model, model_features, file_name = 'hacklive_sub.csv'):\n",
        "\n",
        "  pred_test = model.predict(test[model_features])\n",
        "  pred_test = np.expm1(pred_test)\n",
        "\n",
        "  #Setting the target column with our obtained predictions\n",
        "  submission[TARGET_COL] = pred_test \n",
        "\n",
        "  #Saving our predictions to a csv file\n",
        "  submission.to_csv(file_name, index = False)\n",
        "  \n",
        "  #Downloadingthe csv file\n",
        "  files.download(file_name)\n",
        "\n",
        "def preprocess_text(text, flg_stemm=False, flg_lemm=True):\n",
        "\n",
        "    lst_stopwords = nltk.corpus.stopwords.words(\"english\")\n",
        "    \n",
        "    ## clean (convert to lowercase and remove punctuations and characters and then strip)\n",
        "    text = re.sub(r'[^\\w\\s]', '', str(text).lower().strip())\n",
        "            \n",
        "    ## Tokenize (convert from string to list)\n",
        "    lst_text = text.split()\n",
        "    ## remove Stopwords\n",
        "    if lst_stopwords is not None:\n",
        "        lst_text = [word for word in lst_text if word not in \n",
        "                    lst_stopwords]\n",
        "                \n",
        "    ## Stemming (remove -ing, -ly, ...)\n",
        "    if flg_stemm == True:\n",
        "        ps = nltk.stem.porter.PorterStemmer()\n",
        "        lst_text = [ps.stem(word) for word in lst_text]\n",
        "                \n",
        "    ## Lemmatisation (convert the word into root word)\n",
        "    if flg_lemm == True:\n",
        "        lem = nltk.stem.wordnet.WordNetLemmatizer()    \n",
        "        lst_text = [lem.lemmatize(word) for word in lst_text]\n",
        "            \n",
        "    ## back to string from list\n",
        "    text = \" \".join(lst_text)\n",
        "    return text"
      ],
      "execution_count": null,
      "outputs": []
    },
    {
      "cell_type": "markdown",
      "metadata": {
        "id": "w6FTYkOoU2w6"
      },
      "source": [
        "# 3. Load Data \n",
        "<a name = \"Load_Data\"></a>"
      ]
    },
    {
      "cell_type": "code",
      "metadata": {
        "id": "hnescriMVDkW"
      },
      "source": [
        "#Load Dataset\n",
        "test = pd.read_csv('/content/MyDrive/My Drive/Data Science/Machine Hack/Housing Price Prediction 2020/Data/Test.csv')\n",
        "train = pd.read_csv('/content/MyDrive/My Drive/Data Science/Machine Hack/Housing Price Prediction 2020/Data/Train.csv')\n",
        "submission = pd.read_csv('/content/MyDrive/My Drive/Data Science/Machine Hack/Housing Price Prediction 2020/Data/sample_submission.csv')\n",
        "\n",
        "#Making Column Headers Lowercase\n",
        "train.columns = [x.lower() for x in train.columns]\n",
        "test.columns = [x.lower() for x in test.columns]\n",
        "\n",
        "#Define Target Column\n",
        "TARGET_COL = 'target(price_in_lacs)'\n",
        "\n",
        "#Grouping Columns\n",
        "num_cols = ['square_ft', 'bhk_no.']\n",
        "loc_cols = ['latitude', 'longitude']\n",
        "cat_cols = ['posted_by', 'under_construction', 'rera', 'bhk_or_rk', 'ready_to_move','resale']\n",
        "text_cols = ['address']\n",
        "\n",
        "#Combining Train and Test Data\n",
        "df, features = join_df(train, test)"
      ],
      "execution_count": null,
      "outputs": []
    },
    {
      "cell_type": "code",
      "metadata": {
        "colab": {
          "base_uri": "https://localhost:8080/",
          "height": 238
        },
        "id": "84RICbzHy7m-",
        "outputId": "df378ab8-9de5-4408-987a-827c808b5c3b"
      },
      "source": [
        "train.head()"
      ],
      "execution_count": null,
      "outputs": [
        {
          "output_type": "execute_result",
          "data": {
            "text/html": [
              "<div>\n",
              "<style scoped>\n",
              "    .dataframe tbody tr th:only-of-type {\n",
              "        vertical-align: middle;\n",
              "    }\n",
              "\n",
              "    .dataframe tbody tr th {\n",
              "        vertical-align: top;\n",
              "    }\n",
              "\n",
              "    .dataframe thead th {\n",
              "        text-align: right;\n",
              "    }\n",
              "</style>\n",
              "<table border=\"1\" class=\"dataframe\">\n",
              "  <thead>\n",
              "    <tr style=\"text-align: right;\">\n",
              "      <th></th>\n",
              "      <th>posted_by</th>\n",
              "      <th>under_construction</th>\n",
              "      <th>rera</th>\n",
              "      <th>bhk_no.</th>\n",
              "      <th>bhk_or_rk</th>\n",
              "      <th>square_ft</th>\n",
              "      <th>ready_to_move</th>\n",
              "      <th>resale</th>\n",
              "      <th>address</th>\n",
              "      <th>longitude</th>\n",
              "      <th>latitude</th>\n",
              "      <th>target(price_in_lacs)</th>\n",
              "    </tr>\n",
              "  </thead>\n",
              "  <tbody>\n",
              "    <tr>\n",
              "      <th>0</th>\n",
              "      <td>Owner</td>\n",
              "      <td>0</td>\n",
              "      <td>0</td>\n",
              "      <td>2</td>\n",
              "      <td>BHK</td>\n",
              "      <td>1300.236407</td>\n",
              "      <td>1</td>\n",
              "      <td>1</td>\n",
              "      <td>Ksfc Layout,Bangalore</td>\n",
              "      <td>12.969910</td>\n",
              "      <td>77.597960</td>\n",
              "      <td>55.0</td>\n",
              "    </tr>\n",
              "    <tr>\n",
              "      <th>1</th>\n",
              "      <td>Dealer</td>\n",
              "      <td>0</td>\n",
              "      <td>0</td>\n",
              "      <td>2</td>\n",
              "      <td>BHK</td>\n",
              "      <td>1275.000000</td>\n",
              "      <td>1</td>\n",
              "      <td>1</td>\n",
              "      <td>Vishweshwara Nagar,Mysore</td>\n",
              "      <td>12.274538</td>\n",
              "      <td>76.644605</td>\n",
              "      <td>51.0</td>\n",
              "    </tr>\n",
              "    <tr>\n",
              "      <th>2</th>\n",
              "      <td>Owner</td>\n",
              "      <td>0</td>\n",
              "      <td>0</td>\n",
              "      <td>2</td>\n",
              "      <td>BHK</td>\n",
              "      <td>933.159722</td>\n",
              "      <td>1</td>\n",
              "      <td>1</td>\n",
              "      <td>Jigani,Bangalore</td>\n",
              "      <td>12.778033</td>\n",
              "      <td>77.632191</td>\n",
              "      <td>43.0</td>\n",
              "    </tr>\n",
              "    <tr>\n",
              "      <th>3</th>\n",
              "      <td>Owner</td>\n",
              "      <td>0</td>\n",
              "      <td>1</td>\n",
              "      <td>2</td>\n",
              "      <td>BHK</td>\n",
              "      <td>929.921143</td>\n",
              "      <td>1</td>\n",
              "      <td>1</td>\n",
              "      <td>Sector-1 Vaishali,Ghaziabad</td>\n",
              "      <td>28.642300</td>\n",
              "      <td>77.344500</td>\n",
              "      <td>62.5</td>\n",
              "    </tr>\n",
              "    <tr>\n",
              "      <th>4</th>\n",
              "      <td>Dealer</td>\n",
              "      <td>1</td>\n",
              "      <td>0</td>\n",
              "      <td>2</td>\n",
              "      <td>BHK</td>\n",
              "      <td>999.009247</td>\n",
              "      <td>0</td>\n",
              "      <td>1</td>\n",
              "      <td>New Town,Kolkata</td>\n",
              "      <td>22.592200</td>\n",
              "      <td>88.484911</td>\n",
              "      <td>60.5</td>\n",
              "    </tr>\n",
              "  </tbody>\n",
              "</table>\n",
              "</div>"
            ],
            "text/plain": [
              "  posted_by  under_construction  ...   latitude  target(price_in_lacs)\n",
              "0     Owner                   0  ...  77.597960                   55.0\n",
              "1    Dealer                   0  ...  76.644605                   51.0\n",
              "2     Owner                   0  ...  77.632191                   43.0\n",
              "3     Owner                   0  ...  77.344500                   62.5\n",
              "4    Dealer                   1  ...  88.484911                   60.5\n",
              "\n",
              "[5 rows x 12 columns]"
            ]
          },
          "metadata": {
            "tags": []
          },
          "execution_count": 57
        }
      ]
    },
    {
      "cell_type": "markdown",
      "metadata": {
        "id": "X_5W9XQcWOMO"
      },
      "source": [
        "# 4. EDA and Data Visualization\n",
        "<a name = '4'></a>"
      ]
    },
    {
      "cell_type": "markdown",
      "metadata": {
        "id": "8qj_KhYrWhF_"
      },
      "source": [
        "## 4.1 Target Distribution \n",
        "<a name = 'Target_Distribution'></a>"
      ]
    },
    {
      "cell_type": "markdown",
      "metadata": {
        "id": "0NhidDWpYnez"
      },
      "source": [
        "### 4.1.1 Skewness \n",
        "<a name = 'Skewness'></a>"
      ]
    },
    {
      "cell_type": "code",
      "metadata": {
        "id": "kAEnkFf4pwy5",
        "colab": {
          "base_uri": "https://localhost:8080/",
          "height": 296
        },
        "outputId": "1052d335-4faf-4050-dbf8-5b95d7faf9a5"
      },
      "source": [
        "#Price Distribution\n",
        "df[TARGET_COL].plot(kind = 'density', title = 'Price Distribution', fontsize=12, figsize=(8, 4))"
      ],
      "execution_count": null,
      "outputs": [
        {
          "output_type": "execute_result",
          "data": {
            "text/plain": [
              "<matplotlib.axes._subplots.AxesSubplot at 0x7f8242bfbfd0>"
            ]
          },
          "metadata": {
            "tags": []
          },
          "execution_count": 10
        },
        {
          "output_type": "display_data",
          "data": {
            "image/png": "[encoded data removed]",
            "text/plain": [
              "<Figure size 576x288 with 1 Axes>"
            ]
          },
          "metadata": {
            "tags": []
          }
        }
      ]
    },
    {
      "cell_type": "markdown",
      "metadata": {
        "id": "eyfTRK1gYR02"
      },
      "source": [
        "Above graph shows that our target variable is highgly skewed. To tackle this, we apply Log Transform."
      ]
    },
    {
      "cell_type": "code",
      "metadata": {
        "id": "CVqRtfLzYaSX",
        "colab": {
          "base_uri": "https://localhost:8080/",
          "height": 296
        },
        "outputId": "68d2d490-cb4f-4890-c018-93b48b47e959"
      },
      "source": [
        "#Log Price Distribution\n",
        "pd.Series(np.log1p(df[TARGET_COL])).plot(kind = 'density', title = 'Log Price Distribution', fontsize=12, figsize=(8, 4))"
      ],
      "execution_count": null,
      "outputs": [
        {
          "output_type": "execute_result",
          "data": {
            "text/plain": [
              "<matplotlib.axes._subplots.AxesSubplot at 0x7f82401e4d68>"
            ]
          },
          "metadata": {
            "tags": []
          },
          "execution_count": 11
        },
        {
          "output_type": "display_data",
          "data": {
            "image/png": "[encoded data removed]",
            "text/plain": [
              "<Figure size 576x288 with 1 Axes>"
            ]
          },
          "metadata": {
            "tags": []
          }
        }
      ]
    },
    {
      "cell_type": "markdown",
      "metadata": {
        "id": "wJXDIRs8Yujc"
      },
      "source": [
        "### 4.1.2 Outliers \n",
        "<a name = 'Outliers'></a>"
      ]
    },
    {
      "cell_type": "code",
      "metadata": {
        "id": "Qw-DoNy4Yz-K",
        "colab": {
          "base_uri": "https://localhost:8080/",
          "height": 296
        },
        "outputId": "b83c861d-c3f9-40d8-fc7d-55caeed38c7a"
      },
      "source": [
        "#Price Boxplot\n",
        "df[TARGET_COL].plot(kind = 'box', vert=False, figsize=(12, 4), title = 'Price Boxplot', fontsize=12)"
      ],
      "execution_count": null,
      "outputs": [
        {
          "output_type": "execute_result",
          "data": {
            "text/plain": [
              "<matplotlib.axes._subplots.AxesSubplot at 0x7f823fd0f6d8>"
            ]
          },
          "metadata": {
            "tags": []
          },
          "execution_count": 12
        },
        {
          "output_type": "display_data",
          "data": {
            "image/png": "[encoded data removed]",
            "text/plain": [
              "<Figure size 864x288 with 1 Axes>"
            ]
          },
          "metadata": {
            "tags": []
          }
        }
      ]
    },
    {
      "cell_type": "markdown",
      "metadata": {
        "id": "_o8-ffqYY_dS"
      },
      "source": [
        "Thus, there are a lot of outliers in our Target. So we apply Log Transform."
      ]
    },
    {
      "cell_type": "code",
      "metadata": {
        "id": "E_IT-mtGZHCh",
        "colab": {
          "base_uri": "https://localhost:8080/",
          "height": 298
        },
        "outputId": "60c1ef42-721e-4878-84b4-1e165cb31210"
      },
      "source": [
        "#Log Price BoxPlot\n",
        "pd.Series(np.log1p(df[TARGET_COL])).plot(kind = 'box', vert=False, figsize=(12, 4), title = 'Price Boxplot', fontsize=14)"
      ],
      "execution_count": null,
      "outputs": [
        {
          "output_type": "execute_result",
          "data": {
            "text/plain": [
              "<matplotlib.axes._subplots.AxesSubplot at 0x7f823fd0f898>"
            ]
          },
          "metadata": {
            "tags": []
          },
          "execution_count": 13
        },
        {
          "output_type": "display_data",
          "data": {
            "image/png": "[encoded data removed]",
            "text/plain": [
              "<Figure size 864x288 with 1 Axes>"
            ]
          },
          "metadata": {
            "tags": []
          }
        }
      ]
    },
    {
      "cell_type": "markdown",
      "metadata": {
        "id": "t9Xj83_3c1vN"
      },
      "source": [
        "## 4.2 Data Description \n",
        "<a name = 'Data_Description'></a>"
      ]
    },
    {
      "cell_type": "markdown",
      "metadata": {
        "id": "tvDE_kuudBYg"
      },
      "source": [
        "### 4.2.1 Data Info \n",
        "<a name = 'Data_Info'></a> "
      ]
    },
    {
      "cell_type": "code",
      "metadata": {
        "id": "Rqo1GXtOc017",
        "colab": {
          "base_uri": "https://localhost:8080/"
        },
        "outputId": "c1270455-e5ca-4e5f-de79-c138985a4e76"
      },
      "source": [
        "#Chech Data Info\n",
        "train.info()"
      ],
      "execution_count": null,
      "outputs": [
        {
          "output_type": "stream",
          "text": [
            "<class 'pandas.core.frame.DataFrame'>\n",
            "RangeIndex: 29451 entries, 0 to 29450\n",
            "Data columns (total 12 columns):\n",
            " #   Column                 Non-Null Count  Dtype  \n",
            "---  ------                 --------------  -----  \n",
            " 0   posted_by              29451 non-null  object \n",
            " 1   under_construction     29451 non-null  int64  \n",
            " 2   rera                   29451 non-null  int64  \n",
            " 3   bhk_no.                29451 non-null  int64  \n",
            " 4   bhk_or_rk              29451 non-null  object \n",
            " 5   square_ft              29451 non-null  float64\n",
            " 6   ready_to_move          29451 non-null  int64  \n",
            " 7   resale                 29451 non-null  int64  \n",
            " 8   address                29451 non-null  object \n",
            " 9   longitude              29451 non-null  float64\n",
            " 10  latitude               29451 non-null  float64\n",
            " 11  target(price_in_lacs)  29451 non-null  float64\n",
            "dtypes: float64(4), int64(5), object(3)\n",
            "memory usage: 2.7+ MB\n"
          ],
          "name": "stdout"
        }
      ]
    },
    {
      "cell_type": "markdown",
      "metadata": {
        "id": "c5LTJTQ_dgQ4"
      },
      "source": [
        "### 4.2.2 Null Values \n",
        "<a name = 'Null_Values'></a>"
      ]
    },
    {
      "cell_type": "code",
      "metadata": {
        "id": "sYfGe85cdf02",
        "colab": {
          "base_uri": "https://localhost:8080/"
        },
        "outputId": "c5cfdb4d-a9e2-42dc-d075-3d8f9fb41fe3"
      },
      "source": [
        "#Check null values in Train Set\n",
        "train.isnull().sum()"
      ],
      "execution_count": null,
      "outputs": [
        {
          "output_type": "execute_result",
          "data": {
            "text/plain": [
              "posted_by                0\n",
              "under_construction       0\n",
              "rera                     0\n",
              "bhk_no.                  0\n",
              "bhk_or_rk                0\n",
              "square_ft                0\n",
              "ready_to_move            0\n",
              "resale                   0\n",
              "address                  0\n",
              "longitude                0\n",
              "latitude                 0\n",
              "target(price_in_lacs)    0\n",
              "dtype: int64"
            ]
          },
          "metadata": {
            "tags": []
          },
          "execution_count": 15
        }
      ]
    },
    {
      "cell_type": "code",
      "metadata": {
        "id": "9xU_67fJeF-A",
        "colab": {
          "base_uri": "https://localhost:8080/"
        },
        "outputId": "2e12c6a5-6269-400e-c7d9-742013bbb8b6"
      },
      "source": [
        "#Check null values in Test Set\n",
        "test.isnull().sum()"
      ],
      "execution_count": null,
      "outputs": [
        {
          "output_type": "execute_result",
          "data": {
            "text/plain": [
              "posted_by             0\n",
              "under_construction    0\n",
              "rera                  0\n",
              "bhk_no.               0\n",
              "bhk_or_rk             0\n",
              "square_ft             0\n",
              "ready_to_move         0\n",
              "resale                0\n",
              "address               0\n",
              "longitude             0\n",
              "latitude              0\n",
              "dtype: int64"
            ]
          },
          "metadata": {
            "tags": []
          },
          "execution_count": 16
        }
      ]
    },
    {
      "cell_type": "markdown",
      "metadata": {
        "id": "47qpCORaeK9V"
      },
      "source": [
        "Thus, Train and Test Data have no missing values."
      ]
    },
    {
      "cell_type": "markdown",
      "metadata": {
        "id": "LBXgS00BeTob"
      },
      "source": [
        "### 4.2.3 Unique Values \n",
        "<a name = 'Unique_Values'></a>"
      ]
    },
    {
      "cell_type": "code",
      "metadata": {
        "id": "Ey_H7ph4eS1V",
        "colab": {
          "base_uri": "https://localhost:8080/"
        },
        "outputId": "fd4b9fc2-b9f8-409c-a070-ac34a82d3491"
      },
      "source": [
        "train.nunique()"
      ],
      "execution_count": null,
      "outputs": [
        {
          "output_type": "execute_result",
          "data": {
            "text/plain": [
              "posted_by                    3\n",
              "under_construction           2\n",
              "rera                         2\n",
              "bhk_no.                     16\n",
              "bhk_or_rk                    2\n",
              "square_ft                19561\n",
              "ready_to_move                2\n",
              "resale                       2\n",
              "address                   6899\n",
              "longitude                 4087\n",
              "latitude                  4078\n",
              "target(price_in_lacs)     1172\n",
              "dtype: int64"
            ]
          },
          "metadata": {
            "tags": []
          },
          "execution_count": 17
        }
      ]
    },
    {
      "cell_type": "code",
      "metadata": {
        "id": "AOTS0TAYez_3",
        "colab": {
          "base_uri": "https://localhost:8080/"
        },
        "outputId": "f449ca9b-c467-4098-d997-3af1757a5729"
      },
      "source": [
        "test.nunique()"
      ],
      "execution_count": null,
      "outputs": [
        {
          "output_type": "execute_result",
          "data": {
            "text/plain": [
              "posted_by                 3\n",
              "under_construction        2\n",
              "rera                      2\n",
              "bhk_no.                  17\n",
              "bhk_or_rk                 2\n",
              "square_ft             37704\n",
              "ready_to_move             2\n",
              "resale                    2\n",
              "address               11048\n",
              "longitude              5907\n",
              "latitude               5914\n",
              "dtype: int64"
            ]
          },
          "metadata": {
            "tags": []
          },
          "execution_count": 18
        }
      ]
    },
    {
      "cell_type": "markdown",
      "metadata": {
        "id": "dDXORsyje-_T"
      },
      "source": [
        "We find that the number of unique values for `bhk_no.` is different in Train and Test set. Thus, we cannot apply encoding separately on this feature. We have to apply on combined dataset."
      ]
    },
    {
      "cell_type": "markdown",
      "metadata": {
        "id": "Lr7BPPrpfgIs"
      },
      "source": [
        "## 4.3 Analyzing Variables and their Relationships <a name = 'Analyzing_Variables_and_their_Relationships'></a>"
      ]
    },
    {
      "cell_type": "markdown",
      "metadata": {
        "id": "dklgaXHBf5pf"
      },
      "source": [
        "### 4.3.1 Numerical Variable Analysis <a name = 'Numerical Variable Analysis'></a>"
      ]
    },
    {
      "cell_type": "markdown",
      "metadata": {
        "id": "iXT0ajo8gGsk"
      },
      "source": [
        "The Numerical Variables in our Data Set are:\n",
        "- square_ft\n",
        "- bhk_no.\n",
        "- longitude\n",
        "- latitude"
      ]
    },
    {
      "cell_type": "markdown",
      "metadata": {
        "id": "x0DUsl17inLQ"
      },
      "source": [
        "#### Univariate Analysis <a name = 'Numerical_Univariate_Analysis'></a>"
      ]
    },
    {
      "cell_type": "markdown",
      "metadata": {
        "id": "GkOPAheJivfi"
      },
      "source": [
        "##### Box Plot <a name = 'Numerical_Box_Plot'></a>"
      ]
    },
    {
      "cell_type": "code",
      "metadata": {
        "id": "H3MRmJmMgUnW"
      },
      "source": [
        "fig, axes = plt.subplots(4, 1, figsize=(8, 9))\n",
        "\n",
        "for i, c in enumerate(num_cols):\n",
        "  train[[c]].boxplot(ax=axes[i], vert=False)"
      ],
      "execution_count": null,
      "outputs": []
    },
    {
      "cell_type": "markdown",
      "metadata": {
        "id": "U62Ku1GSjBCb"
      },
      "source": [
        "The Box Plot reveals too many outliers in the Numerical Variables."
      ]
    },
    {
      "cell_type": "markdown",
      "metadata": {
        "id": "pf8sh2_-jMMS"
      },
      "source": [
        "##### Density Plot <a name = 'Numerical_Density_Plot'></a>"
      ]
    },
    {
      "cell_type": "code",
      "metadata": {
        "id": "RCv-GZaljod0"
      },
      "source": [
        "sns.set(font_scale=1)\n",
        "\n",
        "fig, axes = plt.subplots(2, 2, figsize=(12, 8))\n",
        "axes = [ax for axes_row in axes for ax in axes_row]\n",
        "\n",
        "for i, c in enumerate(num_cols):\n",
        "  plot = sns.kdeplot(data=train, x=c, ax=axes[i], fill=True)\n",
        "plt.tight_layout()"
      ],
      "execution_count": null,
      "outputs": []
    },
    {
      "cell_type": "markdown",
      "metadata": {
        "id": "ldVeqBlCj5oq"
      },
      "source": [
        "The data is skewed more in 'square_ft' and 'latitude'."
      ]
    },
    {
      "cell_type": "markdown",
      "metadata": {
        "id": "2Yk8Yv4DkcPl"
      },
      "source": [
        "##### Bivariate Analysis <a name = 'Numerical_Bivariate_Analysis'></a>"
      ]
    },
    {
      "cell_type": "markdown",
      "metadata": {
        "id": "6J5G1rtTkmLJ"
      },
      "source": [
        "##### Correlation Heatmap <a name = 'Numerical_Correlation_Heatmap'></a>"
      ]
    },
    {
      "cell_type": "code",
      "metadata": {
        "id": "KmbNt3Xaj5OE",
        "colab": {
          "base_uri": "https://localhost:8080/",
          "height": 523
        },
        "outputId": "10cf2141-b306-431e-c435-0d34964dd508"
      },
      "source": [
        "plt.figure(figsize=(10, 8))\n",
        "sns.heatmap(train[num_cols + [TARGET_COL]].corr(), annot=True)"
      ],
      "execution_count": null,
      "outputs": [
        {
          "output_type": "execute_result",
          "data": {
            "text/plain": [
              "<matplotlib.axes._subplots.AxesSubplot at 0x7f823fc46e80>"
            ]
          },
          "metadata": {
            "tags": []
          },
          "execution_count": 21
        },
        {
          "output_type": "display_data",
          "data": {
            "image/png": "[encoded data removed]",
            "text/plain": [
              "<Figure size 720x576 with 2 Axes>"
            ]
          },
          "metadata": {
            "tags": []
          }
        }
      ]
    },
    {
      "cell_type": "markdown",
      "metadata": {
        "id": "zK-EIue7lHaf"
      },
      "source": [
        "##### Pair Plot <a name = 'Numerical_Pair_Plot'></a>"
      ]
    },
    {
      "cell_type": "code",
      "metadata": {
        "id": "pW223m93nVNF"
      },
      "source": [
        "n = ['square_ft']"
      ],
      "execution_count": null,
      "outputs": []
    },
    {
      "cell_type": "code",
      "metadata": {
        "id": "r58rzI0QlNFD"
      },
      "source": [
        "sns.pairplot(train[n + [TARGET_COL]], height=5, aspect=24/16)"
      ],
      "execution_count": null,
      "outputs": []
    },
    {
      "cell_type": "markdown",
      "metadata": {
        "id": "Zb8lIlSInhnE"
      },
      "source": [
        "### 4.3.2 Categorical Variable Analysis <a name = '4.3.2'></a>"
      ]
    },
    {
      "cell_type": "markdown",
      "metadata": {
        "id": "1EYhKc7yohlT"
      },
      "source": [
        "The Categorical Variables in our dataset are:\n",
        "- posted_by\n",
        "- under_construction\n",
        "- rera\n",
        "- bhk_or_rk\n",
        "- ready_to_move\n",
        "- resale\n"
      ]
    },
    {
      "cell_type": "markdown",
      "metadata": {
        "id": "R1E4p0uKnwd4"
      },
      "source": [
        "#### Univariate Analysis \n",
        "<a name = 'Categorical_Univariate_Analysis'></a>"
      ]
    },
    {
      "cell_type": "markdown",
      "metadata": {
        "id": "z-vo8xUEn8eL"
      },
      "source": [
        "##### Pie Chart \n",
        "<a name = 'Categorical_Pie_Chart'></a>"
      ]
    },
    {
      "cell_type": "code",
      "metadata": {
        "id": "EL3ie61on5oC",
        "colab": {
          "base_uri": "https://localhost:8080/",
          "height": 782
        },
        "outputId": "165a5b04-0910-48e2-a9ec-bcb8b7d83ca9"
      },
      "source": [
        "fig, axes = plt.subplots(2, 3, figsize=(15, 12))\n",
        "\n",
        "# unpack all the axes subplots\n",
        "axe = [sub for x in axes for sub in x]\n",
        "\n",
        "for i, (c, ax) in enumerate(zip(cat_cols, axes.flatten())):\n",
        "  \n",
        "  train[c].value_counts()[::-1].plot(kind = 'pie', ax=axe[i], title=c, autopct='%.0f', fontsize=12)\n",
        "  axe[i].set_ylabel('')\n",
        "    \n",
        "plt.tight_layout()"
      ],
      "execution_count": null,
      "outputs": [
        {
          "output_type": "display_data",
          "data": {
            "image/png": "[encoded data removed]",
            "text/plain": [
              "<Figure size 1080x864 with 6 Axes>"
            ]
          },
          "metadata": {
            "tags": []
          }
        }
      ]
    },
    {
      "cell_type": "markdown",
      "metadata": {
        "id": "bXNMnzapv_OR"
      },
      "source": [
        "##### Cat Plot <a name = 'Categorical_Cat_Plot'></a>"
      ]
    },
    {
      "cell_type": "code",
      "metadata": {
        "id": "z_hhanlPwIDt",
        "colab": {
          "base_uri": "https://localhost:8080/",
          "height": 330
        },
        "outputId": "29d27e75-47b1-4ca5-d6f2-d45a6e0ce017"
      },
      "source": [
        "#Price Distribution with under_construction\n",
        "\n",
        "sns.catplot(x=\"under_construction\", y=TARGET_COL, data=train, height=4, aspect=24/8)"
      ],
      "execution_count": null,
      "outputs": [
        {
          "output_type": "execute_result",
          "data": {
            "text/plain": [
              "<seaborn.axisgrid.FacetGrid at 0x7f8290aee080>"
            ]
          },
          "metadata": {
            "tags": []
          },
          "execution_count": 59
        },
        {
          "output_type": "display_data",
          "data": {
            "image/png": "[encoded data removed]",
            "text/plain": [
              "<Figure size 864x288 with 1 Axes>"
            ]
          },
          "metadata": {
            "tags": []
          }
        }
      ]
    },
    {
      "cell_type": "code",
      "metadata": {
        "id": "THKB2OGpw_gr",
        "colab": {
          "base_uri": "https://localhost:8080/",
          "height": 330
        },
        "outputId": "db9a950e-47fb-4337-ff04-b2c548252380"
      },
      "source": [
        "#Price Distribution with RERA\n",
        "\n",
        "sns.catplot(x=\"rera\", y=TARGET_COL, data=train, height=4, aspect=24/8)"
      ],
      "execution_count": null,
      "outputs": [
        {
          "output_type": "execute_result",
          "data": {
            "text/plain": [
              "<seaborn.axisgrid.FacetGrid at 0x7f8290f4d5f8>"
            ]
          },
          "metadata": {
            "tags": []
          },
          "execution_count": 60
        },
        {
          "output_type": "display_data",
          "data": {
            "image/png": "[encoded data removed]",
            "text/plain": [
              "<Figure size 864x288 with 1 Axes>"
            ]
          },
          "metadata": {
            "tags": []
          }
        }
      ]
    },
    {
      "cell_type": "code",
      "metadata": {
        "id": "EwuS5hf7xHy4",
        "colab": {
          "base_uri": "https://localhost:8080/",
          "height": 330
        },
        "outputId": "07cba55e-7cbe-4dc3-b9d1-d917fb1f266f"
      },
      "source": [
        "#Price Distribution with bhk_or_rk\n",
        "\n",
        "sns.catplot(x=\"bhk_or_rk\", y=TARGET_COL, data=train, height=4, aspect=24/8)"
      ],
      "execution_count": null,
      "outputs": [
        {
          "output_type": "execute_result",
          "data": {
            "text/plain": [
              "<seaborn.axisgrid.FacetGrid at 0x7f8290b14278>"
            ]
          },
          "metadata": {
            "tags": []
          },
          "execution_count": 61
        },
        {
          "output_type": "display_data",
          "data": {
            "image/png": "[encoded data removed]",
            "text/plain": [
              "<Figure size 864x288 with 1 Axes>"
            ]
          },
          "metadata": {
            "tags": []
          }
        }
      ]
    },
    {
      "cell_type": "markdown",
      "metadata": {
        "id": "kCnQgTk6xPsh"
      },
      "source": [
        "This shows that price of RK is very low as compared to BHK."
      ]
    },
    {
      "cell_type": "code",
      "metadata": {
        "id": "tjq7GVmcxVSd",
        "colab": {
          "base_uri": "https://localhost:8080/",
          "height": 330
        },
        "outputId": "73c4962d-9f04-4a56-a5bf-0a19763346bb"
      },
      "source": [
        "#Price Distribution with bhk_no.\n",
        "\n",
        "sns.catplot(x=\"bhk_no.\", y=TARGET_COL, data=train, height=4, aspect=24/8)"
      ],
      "execution_count": null,
      "outputs": [
        {
          "output_type": "execute_result",
          "data": {
            "text/plain": [
              "<seaborn.axisgrid.FacetGrid at 0x7f822d84af28>"
            ]
          },
          "metadata": {
            "tags": []
          },
          "execution_count": 62
        },
        {
          "output_type": "display_data",
          "data": {
            "image/png": "[encoded data removed]",
            "text/plain": [
              "<Figure size 864x288 with 1 Axes>"
            ]
          },
          "metadata": {
            "tags": []
          }
        }
      ]
    },
    {
      "cell_type": "markdown",
      "metadata": {
        "id": "WbFO8Qpgxk5k"
      },
      "source": [
        "This is strange, that more rooms mean lesser price."
      ]
    },
    {
      "cell_type": "code",
      "metadata": {
        "id": "FAeDLs1NxhMJ",
        "colab": {
          "base_uri": "https://localhost:8080/",
          "height": 330
        },
        "outputId": "d5e5ec49-85ee-4e55-d985-fb8698007808"
      },
      "source": [
        "#Price Distribution with ready_to_move\n",
        "\n",
        "sns.catplot(x=\"ready_to_move\", y=TARGET_COL, data=train, height=4, aspect=24/8)"
      ],
      "execution_count": null,
      "outputs": [
        {
          "output_type": "execute_result",
          "data": {
            "text/plain": [
              "<seaborn.axisgrid.FacetGrid at 0x7f8232a65ef0>"
            ]
          },
          "metadata": {
            "tags": []
          },
          "execution_count": 63
        },
        {
          "output_type": "display_data",
          "data": {
            "image/png": "[encoded data removed]",
            "text/plain": [
              "<Figure size 864x288 with 1 Axes>"
            ]
          },
          "metadata": {
            "tags": []
          }
        }
      ]
    },
    {
      "cell_type": "code",
      "metadata": {
        "id": "eK-ctcCpxwlR",
        "colab": {
          "base_uri": "https://localhost:8080/",
          "height": 330
        },
        "outputId": "6a1885d8-dc88-49f5-89c3-ae5286331785"
      },
      "source": [
        "#Price Distribution with resale\n",
        "\n",
        "sns.catplot(x=\"resale\", y=TARGET_COL, data=train, height=4, aspect=24/8)"
      ],
      "execution_count": null,
      "outputs": [
        {
          "output_type": "execute_result",
          "data": {
            "text/plain": [
              "<seaborn.axisgrid.FacetGrid at 0x7f822d80be48>"
            ]
          },
          "metadata": {
            "tags": []
          },
          "execution_count": 64
        },
        {
          "output_type": "display_data",
          "data": {
            "image/png": "[encoded data removed]",
            "text/plain": [
              "<Figure size 864x288 with 1 Axes>"
            ]
          },
          "metadata": {
            "tags": []
          }
        }
      ]
    },
    {
      "cell_type": "markdown",
      "metadata": {
        "id": "zjy2xnCQx3rz"
      },
      "source": [
        "The price of Resale Houses is lower as compared to new houses."
      ]
    },
    {
      "cell_type": "markdown",
      "metadata": {
        "id": "L1cW0hHtytTG"
      },
      "source": [
        "### 4.3.3 Text Variable Analysis <a name = '433'><a/>"
      ]
    },
    {
      "cell_type": "markdown",
      "metadata": {
        "id": "xnsNwijWy4bs"
      },
      "source": [
        "#### Word Cloud <a name = 'Word_Cloud'></a>"
      ]
    },
    {
      "cell_type": "code",
      "metadata": {
        "id": "AHdZUwrbzB8p",
        "colab": {
          "base_uri": "https://localhost:8080/",
          "height": 254
        },
        "outputId": "e124b189-89cb-401b-f3be-c4da88926a7e"
      },
      "source": [
        "wc = WordCloud(stopwords = set(list(STOPWORDS) + ['|']), random_state = 42).generate(' '.join(train['address']))\n",
        "\n",
        "plt.figure(figsize = (8, 8), facecolor = None)\n",
        "plt.imshow(wc)\n",
        "plt.axis(\"off\")\n",
        "plt.show()  "
      ],
      "execution_count": null,
      "outputs": [
        {
          "output_type": "display_data",
          "data": {
            "image/png": "[encoded data removed]",
            "text/plain": [
              "<Figure size 576x576 with 1 Axes>"
            ]
          },
          "metadata": {
            "tags": []
          }
        }
      ]
    },
    {
      "cell_type": "markdown",
      "metadata": {
        "id": "W4z8fl-A9ceN"
      },
      "source": [
        "# 5. Data Preprocessing\n",
        "<a name = '5'></a>"
      ]
    },
    {
      "cell_type": "markdown",
      "metadata": {
        "id": "9qZivSJM_VKo"
      },
      "source": [
        "## 5.1 Log Transform\n",
        "<a name = '51'></a>"
      ]
    },
    {
      "cell_type": "code",
      "metadata": {
        "id": "koy4wVa7_T7t"
      },
      "source": [
        "df[num_cols + [TARGET_COL]] = df[num_cols + [TARGET_COL]].apply(lambda x: np.log1p(x))"
      ],
      "execution_count": null,
      "outputs": []
    },
    {
      "cell_type": "markdown",
      "metadata": {
        "id": "tmJPWHpV_yF6"
      },
      "source": [
        "## 5.2 One Hot Encoding\n",
        "<a name = '52'></a>"
      ]
    },
    {
      "cell_type": "code",
      "metadata": {
        "id": "ORJC1ahk_12j"
      },
      "source": [
        "df = pd.get_dummies(df, columns = cat_cols)"
      ],
      "execution_count": null,
      "outputs": []
    },
    {
      "cell_type": "markdown",
      "metadata": {
        "id": "oMdesfUxApTc"
      },
      "source": [
        "## 5.3 Label Encoding\n",
        "<a name = '53'></a>"
      ]
    },
    {
      "cell_type": "code",
      "metadata": {
        "id": "dx0wKUnjAwGJ"
      },
      "source": [
        "#Encode Categorical Variables\n",
        "# df[cat_cols] = df[cat_cols].apply(LabelEncoder().fit_transform) "
      ],
      "execution_count": null,
      "outputs": []
    },
    {
      "cell_type": "code",
      "metadata": {
        "id": "QJVMUtPQHZUg"
      },
      "source": [
        "df.head(1)"
      ],
      "execution_count": null,
      "outputs": []
    },
    {
      "cell_type": "markdown",
      "metadata": {
        "id": "XxFJS-6_AG2g"
      },
      "source": [
        "## 5.4 Obtain Processed Data Sets\n",
        "<a name = '54'></a>"
      ]
    },
    {
      "cell_type": "code",
      "metadata": {
        "id": "vF7zU7MKAKt7"
      },
      "source": [
        "trainPro, testPro, features = split_df_and_get_features(df, train.shape[0])"
      ],
      "execution_count": null,
      "outputs": []
    },
    {
      "cell_type": "code",
      "metadata": {
        "id": "FEryu0ojBk21"
      },
      "source": [
        "#Define Encoded Categorical and Numerical Columns\n",
        "cat_num_cols = [c for c in features if c not in ['address']]"
      ],
      "execution_count": null,
      "outputs": []
    },
    {
      "cell_type": "markdown",
      "metadata": {
        "id": "mqcBUWxwX6rg"
      },
      "source": [
        "#CatBoostClassifier"
      ]
    },
    {
      "cell_type": "code",
      "metadata": {
        "id": "EByy7gnEogau"
      },
      "source": [
        ""
      ],
      "execution_count": null,
      "outputs": []
    },
    {
      "cell_type": "code",
      "metadata": {
        "id": "bafrRuyDXOLz",
        "colab": {
          "base_uri": "https://localhost:8080/"
        },
        "outputId": "1e433321-b64d-450a-9d6c-bbed69ae99ea"
      },
      "source": [
        "!pip install catboost"
      ],
      "execution_count": null,
      "outputs": [
        {
          "output_type": "stream",
          "text": [
            "Requirement already satisfied: catboost in /usr/local/lib/python3.6/dist-packages (0.24.3)\n",
            "Requirement already satisfied: numpy>=1.16.0 in /usr/local/lib/python3.6/dist-packages (from catboost) (1.18.5)\n",
            "Requirement already satisfied: graphviz in /usr/local/lib/python3.6/dist-packages (from catboost) (0.10.1)\n",
            "Requirement already satisfied: plotly in /usr/local/lib/python3.6/dist-packages (from catboost) (4.4.1)\n",
            "Requirement already satisfied: six in /usr/local/lib/python3.6/dist-packages (from catboost) (1.15.0)\n",
            "Requirement already satisfied: scipy in /usr/local/lib/python3.6/dist-packages (from catboost) (1.4.1)\n",
            "Requirement already satisfied: matplotlib in /usr/local/lib/python3.6/dist-packages (from catboost) (3.2.2)\n",
            "Requirement already satisfied: pandas>=0.24.0 in /usr/local/lib/python3.6/dist-packages (from catboost) (1.1.5)\n",
            "Requirement already satisfied: retrying>=1.3.3 in /usr/local/lib/python3.6/dist-packages (from plotly->catboost) (1.3.3)\n",
            "Requirement already satisfied: python-dateutil>=2.1 in /usr/local/lib/python3.6/dist-packages (from matplotlib->catboost) (2.8.1)\n",
            "Requirement already satisfied: pyparsing!=2.0.4,!=2.1.2,!=2.1.6,>=2.0.1 in /usr/local/lib/python3.6/dist-packages (from matplotlib->catboost) (2.4.7)\n",
            "Requirement already satisfied: cycler>=0.10 in /usr/local/lib/python3.6/dist-packages (from matplotlib->catboost) (0.10.0)\n",
            "Requirement already satisfied: kiwisolver>=1.0.1 in /usr/local/lib/python3.6/dist-packages (from matplotlib->catboost) (1.3.1)\n",
            "Requirement already satisfied: pytz>=2017.2 in /usr/local/lib/python3.6/dist-packages (from pandas>=0.24.0->catboost) (2018.9)\n"
          ],
          "name": "stdout"
        }
      ]
    },
    {
      "cell_type": "code",
      "metadata": {
        "id": "NOyEPYMCYFOR",
        "colab": {
          "base_uri": "https://localhost:8080/"
        },
        "outputId": "8f914ba7-1cf8-4fc3-ab86-d8f77d906250"
      },
      "source": [
        "#New CatBoostClassifier\n",
        "import numpy as np\n",
        "import pandas as pd\n",
        "import seaborn as sns\n",
        "import statsmodels.api as sm\n",
        "# from catboost import CatBoostRegressor\n",
        "from scipy import stats\n",
        "from sklearn.model_selection import train_test_split\n",
        "from sklearn.metrics import f1_score, accuracy_score\n",
        "\n",
        "\n",
        "#Load Dataset\n",
        "test = pd.read_csv('/content/MyDrive/My Drive/Data Science/Machine Hack/Housing Price Prediction 2020/Data/Test.csv')\n",
        "train = pd.read_csv('/content/MyDrive/My Drive/Data Science/Machine Hack/Housing Price Prediction 2020/Data/Train.csv')\n",
        "\n",
        "#Making Column Headers Lowercase\n",
        "train.columns = [x.lower() for x in train.columns]\n",
        "test.columns = [x.lower() for x in test.columns]\n",
        "\n",
        "#Obtaining Categorical Columns\n",
        "cat_columns = ['posted_by', 'under_construction', 'rera', 'bhk_no.', 'bhk_or_rk', 'ready_to_move','resale']\n",
        "\n",
        "\n",
        "#Label Encoding\n",
        "df_encoding = {\"posted_by\":     {\"Dealer\": 1,\n",
        "                                 \"Owner\": 2, \n",
        "                                 \"Builder\":3},\n",
        "               \n",
        "                \"bhk_or_rk\": {\"RK\": 1,\n",
        "                              \"BHK\": 2},\n",
        "                }\n",
        "\n",
        "#To convert the columns to numbers using replace :\n",
        "train.replace(df_encoding, inplace = True)\n",
        "test.replace(df_encoding, inplace = True)\n",
        "\n",
        "#Convert float to int for model\n",
        "train[cat_columns] = train[cat_columns].astype(int)\n",
        "test[cat_columns] = test[cat_columns].astype(int)\n",
        "\n",
        "#Define Features and Label\n",
        "features = ['posted_by', 'under_construction', 'rera', 'bhk_no.', 'bhk_or_rk',\n",
        "            'square_ft', 'ready_to_move', 'resale', 'longitude',\n",
        "            'latitude'] \n",
        "\n",
        "X=train[features]\n",
        "y=train['target(price_in_lacs)']\n",
        "\n",
        "#Train Test Split\n",
        "X_train, X_test, y_train, y_test = train_test_split(X, y, test_size=0.3, random_state = 23, shuffle = True)"
      ],
      "execution_count": null,
      "outputs": [
        {
          "output_type": "stream",
          "text": [
            "/usr/local/lib/python3.6/dist-packages/statsmodels/tools/_testing.py:19: FutureWarning: pandas.util.testing is deprecated. Use the functions in the public API at pandas.testing instead.\n",
            "  import pandas.util.testing as tm\n"
          ],
          "name": "stderr"
        }
      ]
    },
    {
      "cell_type": "code",
      "metadata": {
        "id": "5S3-og68Zj3J"
      },
      "source": [
        "for i in range(100,1000, 100):\n",
        "\n",
        "  model = CatBoostRegressor(task_type= 'GPU',\n",
        "                            depth = 6,\n",
        "                             l2_leaf_reg = 4, #0.68 \n",
        "                            random_seed = 23,\n",
        "                            n_estimators = i)  \n",
        "\n",
        "  model.fit(X_train, y_train, \n",
        "              cat_features= cat_columns , \n",
        "              plot=True,\n",
        "              eval_set=(X_test, y_test),\n",
        "              early_stopping_rounds = 30,\n",
        "              verbose = 0,\n",
        "            )  \n",
        "\n",
        "  #Make predictions\n",
        "  print(i)\n",
        "  predict(model)"
      ],
      "execution_count": null,
      "outputs": []
    },
    {
      "cell_type": "code",
      "metadata": {
        "id": "ULdh91d1pYl5"
      },
      "source": [
        "#Grid Search\n",
        "model = CatBoostRegressor(task_type = 'GPU' )\n",
        "\n",
        "parameters = {'depth':[3,1,2,6,4,5,7,8,9,10],\n",
        "          'iterations':[250,100,500,1000],\n",
        "          'learning_rate':[0.03,0.001,0.01,0.1,0.2,0.3], \n",
        "          'l2_leaf_reg':[3,1],\n",
        "          'border_count':[32],\n",
        "          }\n",
        "\n",
        "\n",
        "grid = GridSearchCV(estimator=model, param_grid = parameters, cv = 5, n_jobs=-1, scoring = scorer )\n",
        "\n",
        "grid.fit(X_train, y_train,\n",
        "         cat_features= cat_columns , \n",
        "          )\n",
        "\n",
        "grid_results(grid)"
      ],
      "execution_count": null,
      "outputs": []
    },
    {
      "cell_type": "code",
      "metadata": {
        "id": "FwMX8Iel09H2"
      },
      "source": [
        "#Random Search\n",
        "\n",
        "model = CatBoostRegressor(task_type = 'GPU' )\n",
        "\n",
        "parameters = {'depth': np.arange(1,11),\n",
        "          # 'iterations':[250,100,500,1000],\n",
        "          # 'learning_rate':[0.03,0.001,0.01,0.1,0.2,0.3], \n",
        "          'l2_leaf_reg':np.arange(1,11)\n",
        "          # 'border_count':[32],\n",
        "          }\n",
        "\n",
        "grid = RandomizedSearchCV(estimator=model, param_distributions = parameters, cv = 5, n_jobs=-1, n_iter = 2 ,scoring = scorer )\n",
        "\n",
        "grid.fit(X_train, y_train,\n",
        "         cat_features= cat_columns , \n",
        "          verbose = 1)\n",
        "\n",
        "# grid_results(grid)"
      ],
      "execution_count": null,
      "outputs": []
    },
    {
      "cell_type": "markdown",
      "metadata": {
        "id": "XK3usynV8hvn"
      },
      "source": [
        "#LGBM Regressor"
      ]
    },
    {
      "cell_type": "code",
      "metadata": {
        "id": "4GU9kXE79oBg"
      },
      "source": [
        "from datetime import datetime\n",
        "from scipy.stats import skew  # for some statistics\n",
        "from scipy.special import boxcox1p\n",
        "from scipy.stats import boxcox_normmax\n",
        "from sklearn.linear_model import ElasticNetCV, LassoCV, RidgeCV\n",
        "from sklearn.ensemble import GradientBoostingRegressor\n",
        "from sklearn.svm import SVR\n",
        "from sklearn.pipeline import make_pipeline\n",
        "from sklearn.preprocessing import RobustScaler\n",
        "from sklearn.model_selection import KFold, cross_val_score\n",
        "from sklearn.metrics import mean_squared_error\n",
        "from mlxtend.regressor import StackingCVRegressor\n",
        "from xgboost import XGBRegressor\n",
        "from lightgbm import LGBMRegressor\n",
        "import matplotlib.pyplot as plt\n",
        "import scipy.stats as stats\n",
        "import sklearn.linear_model as linear_model\n",
        "import seaborn as sns\n",
        "from sklearn.manifold import TSNE\n",
        "from sklearn.cluster import KMeans\n",
        "from sklearn.decomposition import PCA\n",
        "from sklearn.preprocessing import StandardScaler"
      ],
      "execution_count": null,
      "outputs": []
    },
    {
      "cell_type": "code",
      "metadata": {
        "id": "2o10Vqw88kZ5",
        "colab": {
          "base_uri": "https://localhost:8080/",
          "height": 238
        },
        "outputId": "131e22d6-5c81-4cde-87a8-68baa7ab44ad"
      },
      "source": [
        "train.head()"
      ],
      "execution_count": null,
      "outputs": [
        {
          "output_type": "execute_result",
          "data": {
            "text/html": [
              "<div>\n",
              "<style scoped>\n",
              "    .dataframe tbody tr th:only-of-type {\n",
              "        vertical-align: middle;\n",
              "    }\n",
              "\n",
              "    .dataframe tbody tr th {\n",
              "        vertical-align: top;\n",
              "    }\n",
              "\n",
              "    .dataframe thead th {\n",
              "        text-align: right;\n",
              "    }\n",
              "</style>\n",
              "<table border=\"1\" class=\"dataframe\">\n",
              "  <thead>\n",
              "    <tr style=\"text-align: right;\">\n",
              "      <th></th>\n",
              "      <th>posted_by</th>\n",
              "      <th>under_construction</th>\n",
              "      <th>rera</th>\n",
              "      <th>bhk_no.</th>\n",
              "      <th>bhk_or_rk</th>\n",
              "      <th>square_ft</th>\n",
              "      <th>ready_to_move</th>\n",
              "      <th>resale</th>\n",
              "      <th>address</th>\n",
              "      <th>longitude</th>\n",
              "      <th>latitude</th>\n",
              "      <th>target(price_in_lacs)</th>\n",
              "    </tr>\n",
              "  </thead>\n",
              "  <tbody>\n",
              "    <tr>\n",
              "      <th>0</th>\n",
              "      <td>2</td>\n",
              "      <td>0</td>\n",
              "      <td>0</td>\n",
              "      <td>2</td>\n",
              "      <td>2</td>\n",
              "      <td>1300.236407</td>\n",
              "      <td>1</td>\n",
              "      <td>1</td>\n",
              "      <td>Ksfc Layout,Bangalore</td>\n",
              "      <td>12.969910</td>\n",
              "      <td>77.597960</td>\n",
              "      <td>55.0</td>\n",
              "    </tr>\n",
              "    <tr>\n",
              "      <th>1</th>\n",
              "      <td>1</td>\n",
              "      <td>0</td>\n",
              "      <td>0</td>\n",
              "      <td>2</td>\n",
              "      <td>2</td>\n",
              "      <td>1275.000000</td>\n",
              "      <td>1</td>\n",
              "      <td>1</td>\n",
              "      <td>Vishweshwara Nagar,Mysore</td>\n",
              "      <td>12.274538</td>\n",
              "      <td>76.644605</td>\n",
              "      <td>51.0</td>\n",
              "    </tr>\n",
              "    <tr>\n",
              "      <th>2</th>\n",
              "      <td>2</td>\n",
              "      <td>0</td>\n",
              "      <td>0</td>\n",
              "      <td>2</td>\n",
              "      <td>2</td>\n",
              "      <td>933.159722</td>\n",
              "      <td>1</td>\n",
              "      <td>1</td>\n",
              "      <td>Jigani,Bangalore</td>\n",
              "      <td>12.778033</td>\n",
              "      <td>77.632191</td>\n",
              "      <td>43.0</td>\n",
              "    </tr>\n",
              "    <tr>\n",
              "      <th>3</th>\n",
              "      <td>2</td>\n",
              "      <td>0</td>\n",
              "      <td>1</td>\n",
              "      <td>2</td>\n",
              "      <td>2</td>\n",
              "      <td>929.921143</td>\n",
              "      <td>1</td>\n",
              "      <td>1</td>\n",
              "      <td>Sector-1 Vaishali,Ghaziabad</td>\n",
              "      <td>28.642300</td>\n",
              "      <td>77.344500</td>\n",
              "      <td>62.5</td>\n",
              "    </tr>\n",
              "    <tr>\n",
              "      <th>4</th>\n",
              "      <td>1</td>\n",
              "      <td>1</td>\n",
              "      <td>0</td>\n",
              "      <td>2</td>\n",
              "      <td>2</td>\n",
              "      <td>999.009247</td>\n",
              "      <td>0</td>\n",
              "      <td>1</td>\n",
              "      <td>New Town,Kolkata</td>\n",
              "      <td>22.592200</td>\n",
              "      <td>88.484911</td>\n",
              "      <td>60.5</td>\n",
              "    </tr>\n",
              "  </tbody>\n",
              "</table>\n",
              "</div>"
            ],
            "text/plain": [
              "   posted_by  under_construction  ...   latitude  target(price_in_lacs)\n",
              "0          2                   0  ...  77.597960                   55.0\n",
              "1          1                   0  ...  76.644605                   51.0\n",
              "2          2                   0  ...  77.632191                   43.0\n",
              "3          2                   0  ...  77.344500                   62.5\n",
              "4          1                   1  ...  88.484911                   60.5\n",
              "\n",
              "[5 rows x 12 columns]"
            ]
          },
          "metadata": {
            "tags": []
          },
          "execution_count": 26
        }
      ]
    },
    {
      "cell_type": "code",
      "metadata": {
        "id": "nxlqtqRk89va"
      },
      "source": [
        "#Define Features and Label\n",
        "features = ['posted_by', 'under_construction', 'rera', 'bhk_no.', 'bhk_or_rk',\n",
        "            'square_ft', 'ready_to_move', 'resale', 'longitude',\n",
        "            'latitude'] \n",
        "\n",
        "X=train[features]\n",
        "y=train['target(price_in_lacs)']\n",
        "\n",
        "#Train Test Split\n",
        "X_train, X_test, y_train, y_test = train_test_split(X, y, test_size=0.3, random_state = 23, shuffle = True)"
      ],
      "execution_count": null,
      "outputs": []
    },
    {
      "cell_type": "code",
      "metadata": {
        "id": "iJROcjD189c8",
        "colab": {
          "base_uri": "https://localhost:8080/"
        },
        "outputId": "fa6f06b0-9651-45ef-aae1-b676a9c28980"
      },
      "source": [
        "# lightgbm = LGBMRegressor(objective='regression', \n",
        "#                                        num_leaves=4,\n",
        "#                                        learning_rate=0.01, \n",
        "#                                        n_estimators=1000,\n",
        "#                                        max_bin=200, \n",
        "#                                        bagging_fraction=0.75,\n",
        "#                                        bagging_freq=5, \n",
        "#                                        bagging_seed=7,\n",
        "#                                        feature_fraction=0.2,\n",
        "#                                        feature_fraction_seed=7,\n",
        "#                                        verbose=-1,\n",
        "#                                        )\n",
        "\n",
        "lightgbm = LGBMRegressor(n_estimators = 5000,\n",
        "                        learning_rate = 0.05,    \n",
        "                        colsample_bytree = 0.65,\n",
        "                        metric = 'None',\n",
        "                        num_leaves = 50, \n",
        "                       \n",
        "                       )\n",
        "lightgbm.fit(X_train, y_train)\n",
        "\n",
        "predict(lightgbm)"
      ],
      "execution_count": null,
      "outputs": [
        {
          "output_type": "stream",
          "text": [
            "Train RMSLE = 0.410\n",
            "Test RMSLE = 0.595\n"
          ],
          "name": "stdout"
        }
      ]
    },
    {
      "cell_type": "markdown",
      "metadata": {
        "id": "MY7GNw53EhN5"
      },
      "source": [
        "## XGBoost"
      ]
    },
    {
      "cell_type": "code",
      "metadata": {
        "id": "gVRktXCf9_V4",
        "colab": {
          "base_uri": "https://localhost:8080/",
          "height": 68
        },
        "outputId": "86241484-9d82-444d-a2cc-25e4c4435c72"
      },
      "source": [
        "#XGBoost Original\n",
        "\n",
        "xgboost = XGBRegressor(  \n",
        "                        learning_rate=0.01,\n",
        "                        n_estimators=3460,\n",
        "                        max_depth=7, \n",
        "                        min_child_weight=0,\n",
        "                        gamma=1, \n",
        "                        subsample=0.7,\n",
        "                        colsample_bytree=0.7,\n",
        "                        objective='reg:linear', \n",
        "                        nthread=-1,\n",
        "                        scale_pos_weight=1, \n",
        "                        seed=27,\n",
        "                        reg_alpha=0.00006,\n",
        "                        )  \n",
        "\n",
        "xgboost.fit(X_train, y_train)\n",
        "predict(xgboost)"
      ],
      "execution_count": null,
      "outputs": [
        {
          "output_type": "stream",
          "text": [
            "[15:48:23] WARNING: /workspace/src/objective/regression_obj.cu:152: reg:linear is now deprecated in favor of reg:squarederror.\n",
            "Train RMSLE = 0.333\n",
            "Test RMSLE = 0.409\n"
          ],
          "name": "stdout"
        }
      ]
    },
    {
      "cell_type": "code",
      "metadata": {
        "id": "hYM359wHAYWe",
        "colab": {
          "base_uri": "https://localhost:8080/",
          "height": 68
        },
        "outputId": "6a740007-e940-49f8-d086-441bc1bed7cb"
      },
      "source": [
        "#XGBoost Trial\n",
        "\n",
        "xgboost = XGBRegressor(  \n",
        "                        learning_rate=0.01,\n",
        "                        n_estimators=3460,\n",
        "                        max_depth=8, \n",
        "                        min_child_weight=0,\n",
        "                        gamma=1, \n",
        "                        subsample=0.8,\n",
        "                        colsample_bytree=0.7,\n",
        "                        objective='reg:linear', \n",
        "                        nthread=-1,\n",
        "                        scale_pos_weight=1, \n",
        "                        seed=27,\n",
        "                        reg_alpha=0.00006,\n",
        "                        )  \n",
        "\n",
        "xgboost.fit(X_train, y_train)\n",
        "predict(xgboost)"
      ],
      "execution_count": null,
      "outputs": [
        {
          "output_type": "stream",
          "text": [
            "[16:28:05] WARNING: /workspace/src/objective/regression_obj.cu:152: reg:linear is now deprecated in favor of reg:squarederror.\n",
            "Train RMSLE = 0.291\n",
            "Test RMSLE = 0.402\n"
          ],
          "name": "stdout"
        }
      ]
    },
    {
      "cell_type": "code",
      "metadata": {
        "id": "swpkfIEUa439",
        "colab": {
          "base_uri": "https://localhost:8080/",
          "height": 17
        },
        "outputId": "ac487ea9-f8a8-4eee-deb8-ea8bd6624f6e"
      },
      "source": [
        "submission_test_X = xgboost.predict(test[features])\n",
        "submission_test_X = np.abs(submission_test_X)\n",
        "\n",
        "#Generating Submission File\n",
        "submission['TARGET(PRICE_IN_LACS)'] = submission_test_X\n",
        "\n",
        "# submission_file = pd.DataFrame({'TARGET(PRICE_IN_LACS)': submission_test_X.flatten()})\n",
        "submission.to_csv(\"my_submission6.csv\", index = False)\n",
        "\n",
        "!mv my_submission6.csv '/content/MyDrive/My Drive/Data Science/Machine Hack/Housing Price Prediction 2020/Submission Files'\n",
        "\n",
        "files.download('/content/MyDrive/My Drive/Data Science/Machine Hack/Housing Price Prediction 2020/Submission Files/my_submission6.csv')"
      ],
      "execution_count": null,
      "outputs": [
        {
          "output_type": "display_data",
          "data": {
            "application/javascript": [
              "\n",
              "    async function download(id, filename, size) {\n",
              "      if (!google.colab.kernel.accessAllowed) {\n",
              "        return;\n",
              "      }\n",
              "      const div = document.createElement('div');\n",
              "      const label = document.createElement('label');\n",
              "      label.textContent = `Downloading \"${filename}\": `;\n",
              "      div.appendChild(label);\n",
              "      const progress = document.createElement('progress');\n",
              "      progress.max = size;\n",
              "      div.appendChild(progress);\n",
              "      document.body.appendChild(div);\n",
              "\n",
              "      const buffers = [];\n",
              "      let downloaded = 0;\n",
              "\n",
              "      const channel = await google.colab.kernel.comms.open(id);\n",
              "      // Send a message to notify the kernel that we're ready.\n",
              "      channel.send({})\n",
              "\n",
              "      for await (const message of channel.messages) {\n",
              "        // Send a message to notify the kernel that we're ready.\n",
              "        channel.send({})\n",
              "        if (message.buffers) {\n",
              "          for (const buffer of message.buffers) {\n",
              "            buffers.push(buffer);\n",
              "            downloaded += buffer.byteLength;\n",
              "            progress.value = downloaded;\n",
              "          }\n",
              "        }\n",
              "      }\n",
              "      const blob = new Blob(buffers, {type: 'application/binary'});\n",
              "      const a = document.createElement('a');\n",
              "      a.href = window.URL.createObjectURL(blob);\n",
              "      a.download = filename;\n",
              "      div.appendChild(a);\n",
              "      a.click();\n",
              "      div.remove();\n",
              "    }\n",
              "  "
            ],
            "text/plain": [
              "<IPython.core.display.Javascript object>"
            ]
          },
          "metadata": {
            "tags": []
          }
        },
        {
          "output_type": "display_data",
          "data": {
            "application/javascript": [
              "download(\"download_16582193-26f2-4d54-af71-96447260070f\", \"my_submission6.csv\", 659101)"
            ],
            "text/plain": [
              "<IPython.core.display.Javascript object>"
            ]
          },
          "metadata": {
            "tags": []
          }
        }
      ]
    },
    {
      "cell_type": "code",
      "metadata": {
        "id": "j6D_WwGyEo8V"
      },
      "source": [
        "parameters = {'learning_rate': [0.03,0.001,0.01,0.1,0.2,0.3],\n",
        "          'n_estimators':np.arange(100, 1000, 100),\n",
        "          # 'l2_leaf_reg':np.arange(1,11)\n",
        "          # 'border_count':[32],\n",
        "          }\n",
        "\n",
        "grid = RandomizedSearchCV(estimator=xgboost, param_distributions = parameters, cv = 5, n_jobs=-1, n_iter = 2 ,scoring = 'mean_squared_log_error' )\n",
        "\n",
        "grid.fit(X_train, y_train,\n",
        "         verbose = 100)\n",
        "\n",
        "grid_results(grid)"
      ],
      "execution_count": null,
      "outputs": []
    },
    {
      "cell_type": "code",
      "metadata": {
        "id": "zR1fI3CYHfPg",
        "colab": {
          "base_uri": "https://localhost:8080/",
          "height": 204
        },
        "outputId": "cb8148cd-0495-4a98-bc69-9d9db888f10a"
      },
      "source": [
        "X_train.head()"
      ],
      "execution_count": null,
      "outputs": [
        {
          "output_type": "execute_result",
          "data": {
            "text/html": [
              "<div>\n",
              "<style scoped>\n",
              "    .dataframe tbody tr th:only-of-type {\n",
              "        vertical-align: middle;\n",
              "    }\n",
              "\n",
              "    .dataframe tbody tr th {\n",
              "        vertical-align: top;\n",
              "    }\n",
              "\n",
              "    .dataframe thead th {\n",
              "        text-align: right;\n",
              "    }\n",
              "</style>\n",
              "<table border=\"1\" class=\"dataframe\">\n",
              "  <thead>\n",
              "    <tr style=\"text-align: right;\">\n",
              "      <th></th>\n",
              "      <th>posted_by</th>\n",
              "      <th>under_construction</th>\n",
              "      <th>rera</th>\n",
              "      <th>bhk_no.</th>\n",
              "      <th>bhk_or_rk</th>\n",
              "      <th>square_ft</th>\n",
              "      <th>ready_to_move</th>\n",
              "      <th>resale</th>\n",
              "      <th>longitude</th>\n",
              "      <th>latitude</th>\n",
              "    </tr>\n",
              "  </thead>\n",
              "  <tbody>\n",
              "    <tr>\n",
              "      <th>4899</th>\n",
              "      <td>2</td>\n",
              "      <td>0</td>\n",
              "      <td>0</td>\n",
              "      <td>3</td>\n",
              "      <td>2</td>\n",
              "      <td>1562.500000</td>\n",
              "      <td>1</td>\n",
              "      <td>1</td>\n",
              "      <td>9.878060</td>\n",
              "      <td>76.303890</td>\n",
              "    </tr>\n",
              "    <tr>\n",
              "      <th>11824</th>\n",
              "      <td>1</td>\n",
              "      <td>1</td>\n",
              "      <td>0</td>\n",
              "      <td>2</td>\n",
              "      <td>2</td>\n",
              "      <td>780.000000</td>\n",
              "      <td>0</td>\n",
              "      <td>1</td>\n",
              "      <td>22.541110</td>\n",
              "      <td>88.337780</td>\n",
              "    </tr>\n",
              "    <tr>\n",
              "      <th>15420</th>\n",
              "      <td>1</td>\n",
              "      <td>1</td>\n",
              "      <td>1</td>\n",
              "      <td>1</td>\n",
              "      <td>2</td>\n",
              "      <td>353.028614</td>\n",
              "      <td>0</td>\n",
              "      <td>0</td>\n",
              "      <td>24.862517</td>\n",
              "      <td>78.282467</td>\n",
              "    </tr>\n",
              "    <tr>\n",
              "      <th>23006</th>\n",
              "      <td>1</td>\n",
              "      <td>0</td>\n",
              "      <td>1</td>\n",
              "      <td>3</td>\n",
              "      <td>2</td>\n",
              "      <td>1014.507457</td>\n",
              "      <td>1</td>\n",
              "      <td>1</td>\n",
              "      <td>20.742166</td>\n",
              "      <td>80.104602</td>\n",
              "    </tr>\n",
              "    <tr>\n",
              "      <th>22218</th>\n",
              "      <td>1</td>\n",
              "      <td>0</td>\n",
              "      <td>1</td>\n",
              "      <td>2</td>\n",
              "      <td>2</td>\n",
              "      <td>1017.408998</td>\n",
              "      <td>1</td>\n",
              "      <td>1</td>\n",
              "      <td>19.175900</td>\n",
              "      <td>72.952200</td>\n",
              "    </tr>\n",
              "  </tbody>\n",
              "</table>\n",
              "</div>"
            ],
            "text/plain": [
              "       posted_by  under_construction  rera  ...  resale  longitude   latitude\n",
              "4899           2                   0     0  ...       1   9.878060  76.303890\n",
              "11824          1                   1     0  ...       1  22.541110  88.337780\n",
              "15420          1                   1     1  ...       0  24.862517  78.282467\n",
              "23006          1                   0     1  ...       1  20.742166  80.104602\n",
              "22218          1                   0     1  ...       1  19.175900  72.952200\n",
              "\n",
              "[5 rows x 10 columns]"
            ]
          },
          "metadata": {
            "tags": []
          },
          "execution_count": 36
        }
      ]
    },
    {
      "cell_type": "code",
      "metadata": {
        "id": "ow7nY5oPIg11"
      },
      "source": [
        ""
      ],
      "execution_count": null,
      "outputs": []
    },
    {
      "cell_type": "markdown",
      "metadata": {
        "id": "uudiS2eN3QBO"
      },
      "source": [
        "# 6. New Models\n",
        "<a name = '6'></a>"
      ]
    },
    {
      "cell_type": "code",
      "metadata": {
        "id": "CDf2l32E3fdS",
        "colab": {
          "base_uri": "https://localhost:8080/",
          "height": 275
        },
        "outputId": "d3d579f0-04b8-4f91-b138-b873fe7ab83f"
      },
      "source": [
        "train.head()        "
      ],
      "execution_count": null,
      "outputs": [
        {
          "output_type": "execute_result",
          "data": {
            "text/html": [
              "<div>\n",
              "<style scoped>\n",
              "    .dataframe tbody tr th:only-of-type {\n",
              "        vertical-align: middle;\n",
              "    }\n",
              "\n",
              "    .dataframe tbody tr th {\n",
              "        vertical-align: top;\n",
              "    }\n",
              "\n",
              "    .dataframe thead th {\n",
              "        text-align: right;\n",
              "    }\n",
              "</style>\n",
              "<table border=\"1\" class=\"dataframe\">\n",
              "  <thead>\n",
              "    <tr style=\"text-align: right;\">\n",
              "      <th></th>\n",
              "      <th>posted_by</th>\n",
              "      <th>under_construction</th>\n",
              "      <th>rera</th>\n",
              "      <th>bhk_no.</th>\n",
              "      <th>bhk_or_rk</th>\n",
              "      <th>square_ft</th>\n",
              "      <th>ready_to_move</th>\n",
              "      <th>resale</th>\n",
              "      <th>address</th>\n",
              "      <th>longitude</th>\n",
              "      <th>latitude</th>\n",
              "      <th>target(price_in_lacs)</th>\n",
              "    </tr>\n",
              "  </thead>\n",
              "  <tbody>\n",
              "    <tr>\n",
              "      <th>0</th>\n",
              "      <td>Owner</td>\n",
              "      <td>0</td>\n",
              "      <td>0</td>\n",
              "      <td>2</td>\n",
              "      <td>BHK</td>\n",
              "      <td>1300.236407</td>\n",
              "      <td>1</td>\n",
              "      <td>1</td>\n",
              "      <td>Ksfc Layout,Bangalore</td>\n",
              "      <td>12.969910</td>\n",
              "      <td>77.597960</td>\n",
              "      <td>55.0</td>\n",
              "    </tr>\n",
              "    <tr>\n",
              "      <th>1</th>\n",
              "      <td>Dealer</td>\n",
              "      <td>0</td>\n",
              "      <td>0</td>\n",
              "      <td>2</td>\n",
              "      <td>BHK</td>\n",
              "      <td>1275.000000</td>\n",
              "      <td>1</td>\n",
              "      <td>1</td>\n",
              "      <td>Vishweshwara Nagar,Mysore</td>\n",
              "      <td>12.274538</td>\n",
              "      <td>76.644605</td>\n",
              "      <td>51.0</td>\n",
              "    </tr>\n",
              "    <tr>\n",
              "      <th>2</th>\n",
              "      <td>Owner</td>\n",
              "      <td>0</td>\n",
              "      <td>0</td>\n",
              "      <td>2</td>\n",
              "      <td>BHK</td>\n",
              "      <td>933.159722</td>\n",
              "      <td>1</td>\n",
              "      <td>1</td>\n",
              "      <td>Jigani,Bangalore</td>\n",
              "      <td>12.778033</td>\n",
              "      <td>77.632191</td>\n",
              "      <td>43.0</td>\n",
              "    </tr>\n",
              "    <tr>\n",
              "      <th>3</th>\n",
              "      <td>Owner</td>\n",
              "      <td>0</td>\n",
              "      <td>1</td>\n",
              "      <td>2</td>\n",
              "      <td>BHK</td>\n",
              "      <td>929.921143</td>\n",
              "      <td>1</td>\n",
              "      <td>1</td>\n",
              "      <td>Sector-1 Vaishali,Ghaziabad</td>\n",
              "      <td>28.642300</td>\n",
              "      <td>77.344500</td>\n",
              "      <td>62.5</td>\n",
              "    </tr>\n",
              "    <tr>\n",
              "      <th>4</th>\n",
              "      <td>Dealer</td>\n",
              "      <td>1</td>\n",
              "      <td>0</td>\n",
              "      <td>2</td>\n",
              "      <td>BHK</td>\n",
              "      <td>999.009247</td>\n",
              "      <td>0</td>\n",
              "      <td>1</td>\n",
              "      <td>New Town,Kolkata</td>\n",
              "      <td>22.592200</td>\n",
              "      <td>88.484911</td>\n",
              "      <td>60.5</td>\n",
              "    </tr>\n",
              "  </tbody>\n",
              "</table>\n",
              "</div>"
            ],
            "text/plain": [
              "  posted_by  under_construction  ...   latitude  target(price_in_lacs)\n",
              "0     Owner                   0  ...  77.597960                   55.0\n",
              "1    Dealer                   0  ...  76.644605                   51.0\n",
              "2     Owner                   0  ...  77.632191                   43.0\n",
              "3     Owner                   0  ...  77.344500                   62.5\n",
              "4    Dealer                   1  ...  88.484911                   60.5\n",
              "\n",
              "[5 rows x 12 columns]"
            ]
          },
          "metadata": {
            "tags": []
          },
          "execution_count": 56
        }
      ]
    },
    {
      "cell_type": "markdown",
      "metadata": {
        "id": "uu9HqJH13Vg-"
      },
      "source": [
        "## LightGBM"
      ]
    },
    {
      "cell_type": "code",
      "metadata": {
        "id": "TltGwKIv3Rus"
      },
      "source": [
        "lgb = LGBMRegressor(n_estimators = 5000,\n",
        "                        learning_rate = 0.05,    \n",
        "                        colsample_bytree = 0.65,\n",
        "                        metric = 'None',\n",
        "                        # num_leaves = 50, \n",
        "                        random_state = 42\n",
        "                       )\n",
        "fit_params = {'verbose': 300, 'early_stopping_rounds': 200, 'eval_metric': 'rmse'}\n",
        "\n",
        "lgb_oofs, lgb_preds, fi = run_gradient_boosting(lgb, fit_params, trainPro, testPro, cat_num_cols)"
      ],
      "execution_count": null,
      "outputs": []
    },
    {
      "cell_type": "code",
      "metadata": {
        "id": "lwKSGRgrCEeT"
      },
      "source": [
        "lgb_preds_t = np.expm1(lgb_preds)\n",
        "download_preds(lgb_preds_t, file_name = 's11_lgbm_oneHot.csv')    "
      ],
      "execution_count": null,
      "outputs": []
    },
    {
      "cell_type": "code",
      "metadata": {
        "id": "2XThg31vFAFr"
      },
      "source": [
        "!mv s11_lgbm_oneHot.csv '/content/MyDrive/My Drive/Data Science/Machine Hack/Housing Price Prediction 2020/Submission Files'"
      ],
      "execution_count": null,
      "outputs": []
    },
    {
      "cell_type": "markdown",
      "metadata": {
        "id": "omlICoAiOVZb"
      },
      "source": [
        "## XGBoost"
      ]
    },
    {
      "cell_type": "code",
      "metadata": {
        "id": "BA18vSF2I_V3"
      },
      "source": [
        "xgb = XGBRegressor(n_estimators = 1000,\n",
        "                    max_depth = 6,\n",
        "                    learning_rate = 0.05,\n",
        "                    colsample_bytree = 0.5,\n",
        "                    random_state=42,\n",
        "                    )\n",
        "\n",
        "fit_params = {'verbose': 200, 'early_stopping_rounds': 200}\n",
        "\n",
        "xgb_oofs, xgb_preds, fi = run_gradient_boosting(xgb, fit_params, trainPro, testPro, cat_num_cols)"
      ],
      "execution_count": null,
      "outputs": []
    },
    {
      "cell_type": "code",
      "metadata": {
        "id": "0MvoOI_ROhRy",
        "colab": {
          "base_uri": "https://localhost:8080/",
          "height": 17
        },
        "outputId": "aa1b8577-cb20-43e5-ce46-9e133b963675"
      },
      "source": [
        "xgb_preds_t = np.expm1(xgb_preds)\n",
        "download_preds(xgb_preds_t, file_name = 's12_xgb.csv')    "
      ],
      "execution_count": null,
      "outputs": [
        {
          "output_type": "display_data",
          "data": {
            "application/javascript": [
              "\n",
              "    async function download(id, filename, size) {\n",
              "      if (!google.colab.kernel.accessAllowed) {\n",
              "        return;\n",
              "      }\n",
              "      const div = document.createElement('div');\n",
              "      const label = document.createElement('label');\n",
              "      label.textContent = `Downloading \"${filename}\": `;\n",
              "      div.appendChild(label);\n",
              "      const progress = document.createElement('progress');\n",
              "      progress.max = size;\n",
              "      div.appendChild(progress);\n",
              "      document.body.appendChild(div);\n",
              "\n",
              "      const buffers = [];\n",
              "      let downloaded = 0;\n",
              "\n",
              "      const channel = await google.colab.kernel.comms.open(id);\n",
              "      // Send a message to notify the kernel that we're ready.\n",
              "      channel.send({})\n",
              "\n",
              "      for await (const message of channel.messages) {\n",
              "        // Send a message to notify the kernel that we're ready.\n",
              "        channel.send({})\n",
              "        if (message.buffers) {\n",
              "          for (const buffer of message.buffers) {\n",
              "            buffers.push(buffer);\n",
              "            downloaded += buffer.byteLength;\n",
              "            progress.value = downloaded;\n",
              "          }\n",
              "        }\n",
              "      }\n",
              "      const blob = new Blob(buffers, {type: 'application/binary'});\n",
              "      const a = document.createElement('a');\n",
              "      a.href = window.URL.createObjectURL(blob);\n",
              "      a.download = filename;\n",
              "      div.appendChild(a);\n",
              "      a.click();\n",
              "      div.remove();\n",
              "    }\n",
              "  "
            ],
            "text/plain": [
              "<IPython.core.display.Javascript object>"
            ]
          },
          "metadata": {
            "tags": []
          }
        },
        {
          "output_type": "display_data",
          "data": {
            "application/javascript": [
              "download(\"download_bcd5d1c1-5e2e-4f77-ba7a-45f0d9c73b16\", \"s12_xgb.csv\", 1257828)"
            ],
            "text/plain": [
              "<IPython.core.display.Javascript object>"
            ]
          },
          "metadata": {
            "tags": []
          }
        }
      ]
    },
    {
      "cell_type": "code",
      "metadata": {
        "id": "dZ-wmBiMPEvj"
      },
      "source": [
        "!mv s12_xgb.csv '/content/MyDrive/My Drive/Data Science/Machine Hack/Housing Price Prediction 2020/Submission Files'"
      ],
      "execution_count": null,
      "outputs": []
    },
    {
      "cell_type": "markdown",
      "metadata": {
        "id": "-EKxowdcQcdz"
      },
      "source": [
        "# Ensemble"
      ]
    },
    {
      "cell_type": "code",
      "metadata": {
        "id": "ZDyWW1HnQQa1"
      },
      "source": [
        "train_new = train[[TARGET_COL]]\n",
        "train_new[TARGET_COL] = np.log1p(train_new[TARGET_COL])\n",
        "\n",
        "test_new = test[[ID_COL]]\n",
        "\n",
        "train_new['lgb'] = lgb_oofs\n",
        "test_new['lgb'] = lgb_preds\n",
        "\n",
        "# train_new['cb'] = cb_oofs\n",
        "# test_new['cb'] = cb_preds\n",
        "\n",
        "train_new['xgb'] = xgb_oofs\n",
        "test_new['xgb'] = xgb_preds\n",
        "\n",
        "features = [c for c in train_new.columns if c not in [TARGET_COL]]"
      ],
      "execution_count": null,
      "outputs": []
    },
    {
      "cell_type": "code",
      "metadata": {
        "id": "Syw_Vsq4QxLh"
      },
      "source": [
        "lgb = LGBMRegressor(n_estimators = 5000,\n",
        "                        learning_rate = 0.05,    \n",
        "                        colsample_bytree = 0.65,\n",
        "                        metric = 'None',\n",
        "                        # num_leaves = 50, \n",
        "                        random_state = 42\n",
        "                       )\n",
        "fit_params = {'verbose': 300, 'early_stopping_rounds': 200, 'eval_metric': 'rmse'}\n",
        "\n",
        "lgb_oofs, lgb_preds, fi = run_gradient_boosting(lgb, fit_params, train_new, test_new, cat_num_cols)"
      ],
      "execution_count": null,
      "outputs": []
    },
    {
      "cell_type": "markdown",
      "metadata": {
        "id": "NzEvxiSRzAxs"
      },
      "source": [
        "# 7. Feature Engineering\n",
        "<a name = '7'></a>"
      ]
    },
    {
      "cell_type": "code",
      "metadata": {
        "id": "uhYtC7FLRG84"
      },
      "source": [
        "train.head()"
      ],
      "execution_count": null,
      "outputs": []
    },
    {
      "cell_type": "code",
      "metadata": {
        "id": "nbwAv26kztqc"
      },
      "source": [
        "df, features = join_df(train, test, log = True)"
      ],
      "execution_count": null,
      "outputs": []
    },
    {
      "cell_type": "code",
      "metadata": {
        "id": "OiTHxlSi3j_w"
      },
      "source": [
        "#Label Encoding\n",
        "df[cat_cols] = df[cat_cols].apply(LabelEncoder().fit_transform) \n",
        "\n",
        "# OneHot Encoding\n",
        "# df = pd.get_dummies(df, columns = cat_cols)"
      ],
      "execution_count": null,
      "outputs": []
    },
    {
      "cell_type": "code",
      "metadata": {
        "id": "8q6bQN-D316f",
        "colab": {
          "base_uri": "https://localhost:8080/",
          "height": 275
        },
        "outputId": "0ffd3a72-2715-476e-ea5a-e1f3bd41e6c5"
      },
      "source": [
        "df.head()"
      ],
      "execution_count": null,
      "outputs": [
        {
          "output_type": "execute_result",
          "data": {
            "text/html": [
              "<div>\n",
              "<style scoped>\n",
              "    .dataframe tbody tr th:only-of-type {\n",
              "        vertical-align: middle;\n",
              "    }\n",
              "\n",
              "    .dataframe tbody tr th {\n",
              "        vertical-align: top;\n",
              "    }\n",
              "\n",
              "    .dataframe thead th {\n",
              "        text-align: right;\n",
              "    }\n",
              "</style>\n",
              "<table border=\"1\" class=\"dataframe\">\n",
              "  <thead>\n",
              "    <tr style=\"text-align: right;\">\n",
              "      <th></th>\n",
              "      <th>posted_by</th>\n",
              "      <th>under_construction</th>\n",
              "      <th>rera</th>\n",
              "      <th>bhk_no.</th>\n",
              "      <th>bhk_or_rk</th>\n",
              "      <th>square_ft</th>\n",
              "      <th>ready_to_move</th>\n",
              "      <th>resale</th>\n",
              "      <th>address</th>\n",
              "      <th>longitude</th>\n",
              "      <th>latitude</th>\n",
              "      <th>target(price_in_lacs)</th>\n",
              "    </tr>\n",
              "  </thead>\n",
              "  <tbody>\n",
              "    <tr>\n",
              "      <th>0</th>\n",
              "      <td>2</td>\n",
              "      <td>0</td>\n",
              "      <td>0</td>\n",
              "      <td>1.098612</td>\n",
              "      <td>0</td>\n",
              "      <td>7.171070</td>\n",
              "      <td>1</td>\n",
              "      <td>1</td>\n",
              "      <td>Ksfc Layout,Bangalore</td>\n",
              "      <td>12.969910</td>\n",
              "      <td>77.597960</td>\n",
              "      <td>4.025352</td>\n",
              "    </tr>\n",
              "    <tr>\n",
              "      <th>1</th>\n",
              "      <td>1</td>\n",
              "      <td>0</td>\n",
              "      <td>0</td>\n",
              "      <td>1.098612</td>\n",
              "      <td>0</td>\n",
              "      <td>7.151485</td>\n",
              "      <td>1</td>\n",
              "      <td>1</td>\n",
              "      <td>Vishweshwara Nagar,Mysore</td>\n",
              "      <td>12.274538</td>\n",
              "      <td>76.644605</td>\n",
              "      <td>3.951244</td>\n",
              "    </tr>\n",
              "    <tr>\n",
              "      <th>2</th>\n",
              "      <td>2</td>\n",
              "      <td>0</td>\n",
              "      <td>0</td>\n",
              "      <td>1.098612</td>\n",
              "      <td>0</td>\n",
              "      <td>6.839647</td>\n",
              "      <td>1</td>\n",
              "      <td>1</td>\n",
              "      <td>Jigani,Bangalore</td>\n",
              "      <td>12.778033</td>\n",
              "      <td>77.632191</td>\n",
              "      <td>3.784190</td>\n",
              "    </tr>\n",
              "    <tr>\n",
              "      <th>3</th>\n",
              "      <td>2</td>\n",
              "      <td>0</td>\n",
              "      <td>1</td>\n",
              "      <td>1.098612</td>\n",
              "      <td>0</td>\n",
              "      <td>6.836175</td>\n",
              "      <td>1</td>\n",
              "      <td>1</td>\n",
              "      <td>Sector-1 Vaishali,Ghaziabad</td>\n",
              "      <td>28.642300</td>\n",
              "      <td>77.344500</td>\n",
              "      <td>4.151040</td>\n",
              "    </tr>\n",
              "    <tr>\n",
              "      <th>4</th>\n",
              "      <td>1</td>\n",
              "      <td>1</td>\n",
              "      <td>0</td>\n",
              "      <td>1.098612</td>\n",
              "      <td>0</td>\n",
              "      <td>6.907765</td>\n",
              "      <td>0</td>\n",
              "      <td>1</td>\n",
              "      <td>New Town,Kolkata</td>\n",
              "      <td>22.592200</td>\n",
              "      <td>88.484911</td>\n",
              "      <td>4.119037</td>\n",
              "    </tr>\n",
              "  </tbody>\n",
              "</table>\n",
              "</div>"
            ],
            "text/plain": [
              "   posted_by  under_construction  ...   latitude  target(price_in_lacs)\n",
              "0          2                   0  ...  77.597960               4.025352\n",
              "1          1                   0  ...  76.644605               3.951244\n",
              "2          2                   0  ...  77.632191               3.784190\n",
              "3          2                   0  ...  77.344500               4.151040\n",
              "4          1                   1  ...  88.484911               4.119037\n",
              "\n",
              "[5 rows x 12 columns]"
            ]
          },
          "metadata": {
            "tags": []
          },
          "execution_count": 52
        }
      ]
    },
    {
      "cell_type": "markdown",
      "metadata": {
        "id": "HkDms8MDcSjp"
      },
      "source": [
        "## 7.1 Statistical Features based on Cities\n",
        "<a name = '71'></a>"
      ]
    },
    {
      "cell_type": "code",
      "metadata": {
        "id": "Eo9GxbkY34cZ"
      },
      "source": [
        "#Obtain Cities\n",
        "df['city'] = df['address'].str.rsplit(',').str[-1] "
      ],
      "execution_count": null,
      "outputs": []
    },
    {
      "cell_type": "code",
      "metadata": {
        "id": "BCfs8qme41Hr"
      },
      "source": [
        "#Obtain Statistical Features\n",
        "\n",
        "df['city_mean_square_ft'] = df.groupby('city')['square_ft'].transform('mean')\n",
        "df['city_max_square_ft'] = df.groupby('city')['square_ft'].transform('max')\n",
        "df['city_min_square_ft'] = df.groupby('city')['square_ft'].transform('min')\n",
        "\n",
        "df['city_mean_bhk_no.'] = df.groupby('city')['bhk_no.'].transform('mean')\n",
        "df['city_max_bhk_no.'] = df.groupby('city')['bhk_no.'].transform('max')\n",
        "df['city_min_bhk_no.'] = df.groupby('city')['bhk_no.'].transform('min')"
      ],
      "execution_count": null,
      "outputs": []
    },
    {
      "cell_type": "code",
      "metadata": {
        "id": "vhDYwgiPfeMS"
      },
      "source": [
        "df.city.value_counts()  "
      ],
      "execution_count": null,
      "outputs": []
    },
    {
      "cell_type": "markdown",
      "metadata": {
        "id": "FNEmTUdTccMV"
      },
      "source": [
        "## 7.2 Bag of Words on Address Column\n",
        "<a name = '72'></a>"
      ]
    },
    {
      "cell_type": "code",
      "metadata": {
        "id": "iee05US26B5Q"
      },
      "source": [
        "#Top Words Occuring in Address\n",
        "\n",
        "TOP_N_WORDS = 50\n",
        "\n",
        "vec = CountVectorizer(max_features = TOP_N_WORDS)\n",
        "txt_to_fts = vec.fit_transform(df['address']).toarray()\n",
        "\n",
        "c = 'address'\n",
        "txt_fts_names = [c + f'_word_{i}_count' for i in range(TOP_N_WORDS)]\n",
        "df[txt_fts_names] = txt_to_fts"
      ],
      "execution_count": null,
      "outputs": []
    },
    {
      "cell_type": "code",
      "metadata": {
        "id": "6dUI8qXb7BLW",
        "colab": {
          "base_uri": "https://localhost:8080/",
          "height": 275
        },
        "outputId": "c0bb18d2-e9d3-47fa-d1de-2952ef05d945"
      },
      "source": [
        "df.head()"
      ],
      "execution_count": null,
      "outputs": [
        {
          "output_type": "execute_result",
          "data": {
            "text/html": [
              "<div>\n",
              "<style scoped>\n",
              "    .dataframe tbody tr th:only-of-type {\n",
              "        vertical-align: middle;\n",
              "    }\n",
              "\n",
              "    .dataframe tbody tr th {\n",
              "        vertical-align: top;\n",
              "    }\n",
              "\n",
              "    .dataframe thead th {\n",
              "        text-align: right;\n",
              "    }\n",
              "</style>\n",
              "<table border=\"1\" class=\"dataframe\">\n",
              "  <thead>\n",
              "    <tr style=\"text-align: right;\">\n",
              "      <th></th>\n",
              "      <th>posted_by</th>\n",
              "      <th>under_construction</th>\n",
              "      <th>rera</th>\n",
              "      <th>bhk_no.</th>\n",
              "      <th>bhk_or_rk</th>\n",
              "      <th>square_ft</th>\n",
              "      <th>ready_to_move</th>\n",
              "      <th>resale</th>\n",
              "      <th>address</th>\n",
              "      <th>longitude</th>\n",
              "      <th>latitude</th>\n",
              "      <th>target(price_in_lacs)</th>\n",
              "      <th>city</th>\n",
              "      <th>city_mean_square_ft</th>\n",
              "      <th>city_max_square_ft</th>\n",
              "      <th>city_min_square_ft</th>\n",
              "      <th>city_mean_bhk_no.</th>\n",
              "      <th>city_max_bhk_no.</th>\n",
              "      <th>city_min_bhk_no.</th>\n",
              "      <th>address_word_0_count</th>\n",
              "      <th>address_word_1_count</th>\n",
              "      <th>address_word_2_count</th>\n",
              "      <th>address_word_3_count</th>\n",
              "      <th>address_word_4_count</th>\n",
              "      <th>address_word_5_count</th>\n",
              "      <th>address_word_6_count</th>\n",
              "      <th>address_word_7_count</th>\n",
              "      <th>address_word_8_count</th>\n",
              "      <th>address_word_9_count</th>\n",
              "      <th>address_word_10_count</th>\n",
              "      <th>address_word_11_count</th>\n",
              "      <th>address_word_12_count</th>\n",
              "      <th>address_word_13_count</th>\n",
              "      <th>address_word_14_count</th>\n",
              "      <th>address_word_15_count</th>\n",
              "      <th>address_word_16_count</th>\n",
              "      <th>address_word_17_count</th>\n",
              "      <th>address_word_18_count</th>\n",
              "      <th>address_word_19_count</th>\n",
              "      <th>address_word_20_count</th>\n",
              "      <th>address_word_21_count</th>\n",
              "      <th>address_word_22_count</th>\n",
              "      <th>address_word_23_count</th>\n",
              "      <th>address_word_24_count</th>\n",
              "      <th>address_word_25_count</th>\n",
              "      <th>address_word_26_count</th>\n",
              "      <th>address_word_27_count</th>\n",
              "      <th>address_word_28_count</th>\n",
              "      <th>address_word_29_count</th>\n",
              "      <th>address_word_30_count</th>\n",
              "      <th>address_word_31_count</th>\n",
              "      <th>address_word_32_count</th>\n",
              "      <th>address_word_33_count</th>\n",
              "      <th>address_word_34_count</th>\n",
              "      <th>address_word_35_count</th>\n",
              "      <th>address_word_36_count</th>\n",
              "      <th>address_word_37_count</th>\n",
              "      <th>address_word_38_count</th>\n",
              "      <th>address_word_39_count</th>\n",
              "      <th>address_word_40_count</th>\n",
              "      <th>address_word_41_count</th>\n",
              "      <th>address_word_42_count</th>\n",
              "      <th>address_word_43_count</th>\n",
              "      <th>address_word_44_count</th>\n",
              "      <th>address_word_45_count</th>\n",
              "      <th>address_word_46_count</th>\n",
              "      <th>address_word_47_count</th>\n",
              "      <th>address_word_48_count</th>\n",
              "      <th>address_word_49_count</th>\n",
              "    </tr>\n",
              "  </thead>\n",
              "  <tbody>\n",
              "    <tr>\n",
              "      <th>0</th>\n",
              "      <td>2</td>\n",
              "      <td>0</td>\n",
              "      <td>0</td>\n",
              "      <td>1.098612</td>\n",
              "      <td>0</td>\n",
              "      <td>7.171070</td>\n",
              "      <td>1</td>\n",
              "      <td>1</td>\n",
              "      <td>Ksfc Layout,Bangalore</td>\n",
              "      <td>2.636906</td>\n",
              "      <td>4.364346</td>\n",
              "      <td>4.025352</td>\n",
              "      <td>Bangalore</td>\n",
              "      <td>7.265768</td>\n",
              "      <td>19.354990</td>\n",
              "      <td>3.433988</td>\n",
              "      <td>1.253933</td>\n",
              "      <td>3.044522</td>\n",
              "      <td>0.693147</td>\n",
              "      <td>1</td>\n",
              "      <td>0</td>\n",
              "      <td>0</td>\n",
              "      <td>0</td>\n",
              "      <td>0</td>\n",
              "      <td>0</td>\n",
              "      <td>0</td>\n",
              "      <td>0</td>\n",
              "      <td>0</td>\n",
              "      <td>0</td>\n",
              "      <td>0</td>\n",
              "      <td>0</td>\n",
              "      <td>0</td>\n",
              "      <td>0</td>\n",
              "      <td>0</td>\n",
              "      <td>0</td>\n",
              "      <td>0</td>\n",
              "      <td>0</td>\n",
              "      <td>0</td>\n",
              "      <td>0</td>\n",
              "      <td>0</td>\n",
              "      <td>0</td>\n",
              "      <td>0</td>\n",
              "      <td>0</td>\n",
              "      <td>1</td>\n",
              "      <td>0</td>\n",
              "      <td>0</td>\n",
              "      <td>0</td>\n",
              "      <td>0</td>\n",
              "      <td>0</td>\n",
              "      <td>0</td>\n",
              "      <td>0</td>\n",
              "      <td>0</td>\n",
              "      <td>0</td>\n",
              "      <td>0</td>\n",
              "      <td>0</td>\n",
              "      <td>0</td>\n",
              "      <td>0</td>\n",
              "      <td>0</td>\n",
              "      <td>0</td>\n",
              "      <td>0</td>\n",
              "      <td>0</td>\n",
              "      <td>0</td>\n",
              "      <td>0</td>\n",
              "      <td>0</td>\n",
              "      <td>0</td>\n",
              "      <td>0</td>\n",
              "      <td>0</td>\n",
              "      <td>0</td>\n",
              "      <td>0</td>\n",
              "    </tr>\n",
              "    <tr>\n",
              "      <th>1</th>\n",
              "      <td>1</td>\n",
              "      <td>0</td>\n",
              "      <td>0</td>\n",
              "      <td>1.098612</td>\n",
              "      <td>0</td>\n",
              "      <td>7.151485</td>\n",
              "      <td>1</td>\n",
              "      <td>1</td>\n",
              "      <td>Vishweshwara Nagar,Mysore</td>\n",
              "      <td>2.585848</td>\n",
              "      <td>4.352142</td>\n",
              "      <td>3.951244</td>\n",
              "      <td>Mysore</td>\n",
              "      <td>7.171865</td>\n",
              "      <td>8.289390</td>\n",
              "      <td>4.110880</td>\n",
              "      <td>1.223913</td>\n",
              "      <td>1.791759</td>\n",
              "      <td>0.693147</td>\n",
              "      <td>0</td>\n",
              "      <td>0</td>\n",
              "      <td>0</td>\n",
              "      <td>0</td>\n",
              "      <td>0</td>\n",
              "      <td>0</td>\n",
              "      <td>0</td>\n",
              "      <td>0</td>\n",
              "      <td>0</td>\n",
              "      <td>0</td>\n",
              "      <td>0</td>\n",
              "      <td>0</td>\n",
              "      <td>0</td>\n",
              "      <td>0</td>\n",
              "      <td>0</td>\n",
              "      <td>0</td>\n",
              "      <td>0</td>\n",
              "      <td>0</td>\n",
              "      <td>0</td>\n",
              "      <td>0</td>\n",
              "      <td>0</td>\n",
              "      <td>0</td>\n",
              "      <td>0</td>\n",
              "      <td>0</td>\n",
              "      <td>0</td>\n",
              "      <td>0</td>\n",
              "      <td>0</td>\n",
              "      <td>0</td>\n",
              "      <td>0</td>\n",
              "      <td>0</td>\n",
              "      <td>0</td>\n",
              "      <td>1</td>\n",
              "      <td>0</td>\n",
              "      <td>0</td>\n",
              "      <td>0</td>\n",
              "      <td>0</td>\n",
              "      <td>0</td>\n",
              "      <td>0</td>\n",
              "      <td>0</td>\n",
              "      <td>0</td>\n",
              "      <td>0</td>\n",
              "      <td>0</td>\n",
              "      <td>0</td>\n",
              "      <td>0</td>\n",
              "      <td>0</td>\n",
              "      <td>0</td>\n",
              "      <td>0</td>\n",
              "      <td>0</td>\n",
              "      <td>0</td>\n",
              "      <td>0</td>\n",
              "    </tr>\n",
              "    <tr>\n",
              "      <th>2</th>\n",
              "      <td>2</td>\n",
              "      <td>0</td>\n",
              "      <td>0</td>\n",
              "      <td>1.098612</td>\n",
              "      <td>0</td>\n",
              "      <td>6.839647</td>\n",
              "      <td>1</td>\n",
              "      <td>1</td>\n",
              "      <td>Jigani,Bangalore</td>\n",
              "      <td>2.623076</td>\n",
              "      <td>4.364781</td>\n",
              "      <td>3.784190</td>\n",
              "      <td>Bangalore</td>\n",
              "      <td>7.265768</td>\n",
              "      <td>19.354990</td>\n",
              "      <td>3.433988</td>\n",
              "      <td>1.253933</td>\n",
              "      <td>3.044522</td>\n",
              "      <td>0.693147</td>\n",
              "      <td>1</td>\n",
              "      <td>0</td>\n",
              "      <td>0</td>\n",
              "      <td>0</td>\n",
              "      <td>0</td>\n",
              "      <td>0</td>\n",
              "      <td>0</td>\n",
              "      <td>0</td>\n",
              "      <td>0</td>\n",
              "      <td>0</td>\n",
              "      <td>0</td>\n",
              "      <td>0</td>\n",
              "      <td>0</td>\n",
              "      <td>0</td>\n",
              "      <td>0</td>\n",
              "      <td>0</td>\n",
              "      <td>0</td>\n",
              "      <td>0</td>\n",
              "      <td>0</td>\n",
              "      <td>0</td>\n",
              "      <td>0</td>\n",
              "      <td>0</td>\n",
              "      <td>0</td>\n",
              "      <td>0</td>\n",
              "      <td>0</td>\n",
              "      <td>0</td>\n",
              "      <td>0</td>\n",
              "      <td>0</td>\n",
              "      <td>0</td>\n",
              "      <td>0</td>\n",
              "      <td>0</td>\n",
              "      <td>0</td>\n",
              "      <td>0</td>\n",
              "      <td>0</td>\n",
              "      <td>0</td>\n",
              "      <td>0</td>\n",
              "      <td>0</td>\n",
              "      <td>0</td>\n",
              "      <td>0</td>\n",
              "      <td>0</td>\n",
              "      <td>0</td>\n",
              "      <td>0</td>\n",
              "      <td>0</td>\n",
              "      <td>0</td>\n",
              "      <td>0</td>\n",
              "      <td>0</td>\n",
              "      <td>0</td>\n",
              "      <td>0</td>\n",
              "      <td>0</td>\n",
              "      <td>0</td>\n",
              "    </tr>\n",
              "    <tr>\n",
              "      <th>3</th>\n",
              "      <td>2</td>\n",
              "      <td>0</td>\n",
              "      <td>1</td>\n",
              "      <td>1.098612</td>\n",
              "      <td>0</td>\n",
              "      <td>6.836175</td>\n",
              "      <td>1</td>\n",
              "      <td>1</td>\n",
              "      <td>Sector-1 Vaishali,Ghaziabad</td>\n",
              "      <td>3.389202</td>\n",
              "      <td>4.361116</td>\n",
              "      <td>4.151040</td>\n",
              "      <td>Ghaziabad</td>\n",
              "      <td>7.062903</td>\n",
              "      <td>9.464021</td>\n",
              "      <td>3.496508</td>\n",
              "      <td>1.203225</td>\n",
              "      <td>1.791759</td>\n",
              "      <td>0.693147</td>\n",
              "      <td>0</td>\n",
              "      <td>0</td>\n",
              "      <td>0</td>\n",
              "      <td>0</td>\n",
              "      <td>0</td>\n",
              "      <td>0</td>\n",
              "      <td>0</td>\n",
              "      <td>0</td>\n",
              "      <td>0</td>\n",
              "      <td>0</td>\n",
              "      <td>0</td>\n",
              "      <td>0</td>\n",
              "      <td>0</td>\n",
              "      <td>1</td>\n",
              "      <td>0</td>\n",
              "      <td>0</td>\n",
              "      <td>0</td>\n",
              "      <td>0</td>\n",
              "      <td>0</td>\n",
              "      <td>0</td>\n",
              "      <td>0</td>\n",
              "      <td>0</td>\n",
              "      <td>0</td>\n",
              "      <td>0</td>\n",
              "      <td>0</td>\n",
              "      <td>0</td>\n",
              "      <td>0</td>\n",
              "      <td>0</td>\n",
              "      <td>0</td>\n",
              "      <td>0</td>\n",
              "      <td>0</td>\n",
              "      <td>0</td>\n",
              "      <td>0</td>\n",
              "      <td>0</td>\n",
              "      <td>0</td>\n",
              "      <td>0</td>\n",
              "      <td>0</td>\n",
              "      <td>0</td>\n",
              "      <td>0</td>\n",
              "      <td>0</td>\n",
              "      <td>1</td>\n",
              "      <td>0</td>\n",
              "      <td>0</td>\n",
              "      <td>0</td>\n",
              "      <td>0</td>\n",
              "      <td>0</td>\n",
              "      <td>0</td>\n",
              "      <td>0</td>\n",
              "      <td>0</td>\n",
              "      <td>0</td>\n",
              "    </tr>\n",
              "    <tr>\n",
              "      <th>4</th>\n",
              "      <td>1</td>\n",
              "      <td>1</td>\n",
              "      <td>0</td>\n",
              "      <td>1.098612</td>\n",
              "      <td>0</td>\n",
              "      <td>6.907765</td>\n",
              "      <td>0</td>\n",
              "      <td>1</td>\n",
              "      <td>New Town,Kolkata</td>\n",
              "      <td>3.160916</td>\n",
              "      <td>4.494070</td>\n",
              "      <td>4.119037</td>\n",
              "      <td>Kolkata</td>\n",
              "      <td>7.047386</td>\n",
              "      <td>12.119422</td>\n",
              "      <td>4.700489</td>\n",
              "      <td>1.255454</td>\n",
              "      <td>2.772589</td>\n",
              "      <td>0.693147</td>\n",
              "      <td>0</td>\n",
              "      <td>0</td>\n",
              "      <td>0</td>\n",
              "      <td>0</td>\n",
              "      <td>0</td>\n",
              "      <td>0</td>\n",
              "      <td>0</td>\n",
              "      <td>0</td>\n",
              "      <td>0</td>\n",
              "      <td>0</td>\n",
              "      <td>0</td>\n",
              "      <td>0</td>\n",
              "      <td>0</td>\n",
              "      <td>0</td>\n",
              "      <td>0</td>\n",
              "      <td>0</td>\n",
              "      <td>0</td>\n",
              "      <td>0</td>\n",
              "      <td>0</td>\n",
              "      <td>0</td>\n",
              "      <td>0</td>\n",
              "      <td>0</td>\n",
              "      <td>1</td>\n",
              "      <td>0</td>\n",
              "      <td>0</td>\n",
              "      <td>0</td>\n",
              "      <td>0</td>\n",
              "      <td>0</td>\n",
              "      <td>0</td>\n",
              "      <td>0</td>\n",
              "      <td>0</td>\n",
              "      <td>0</td>\n",
              "      <td>0</td>\n",
              "      <td>1</td>\n",
              "      <td>0</td>\n",
              "      <td>0</td>\n",
              "      <td>0</td>\n",
              "      <td>0</td>\n",
              "      <td>0</td>\n",
              "      <td>0</td>\n",
              "      <td>0</td>\n",
              "      <td>0</td>\n",
              "      <td>0</td>\n",
              "      <td>1</td>\n",
              "      <td>0</td>\n",
              "      <td>0</td>\n",
              "      <td>0</td>\n",
              "      <td>0</td>\n",
              "      <td>0</td>\n",
              "      <td>0</td>\n",
              "    </tr>\n",
              "  </tbody>\n",
              "</table>\n",
              "</div>"
            ],
            "text/plain": [
              "   posted_by  under_construction  ...  address_word_48_count  address_word_49_count\n",
              "0          2                   0  ...                      0                      0\n",
              "1          1                   0  ...                      0                      0\n",
              "2          2                   0  ...                      0                      0\n",
              "3          2                   0  ...                      0                      0\n",
              "4          1                   1  ...                      0                      0\n",
              "\n",
              "[5 rows x 69 columns]"
            ]
          },
          "metadata": {
            "tags": []
          },
          "execution_count": 38
        }
      ]
    },
    {
      "cell_type": "markdown",
      "metadata": {
        "id": "JJP2RfGmcmPQ"
      },
      "source": [
        "## 7.3 Additional Statistical Features and Length Analysis\n",
        "<a name = '73'></a>"
      ]
    },
    {
      "cell_type": "code",
      "metadata": {
        "id": "Rsc2g7_bjcUs"
      },
      "source": [
        "#Area Per Room\n",
        "df['area_per_room'] = df['square_ft']/df['bhk_no.']\n",
        "\n",
        "#Number of Houses in City\n",
        "df['houses_per_city'] = df['city'].map(df['city'].value_counts())\n",
        "\n",
        "#Length of Address\n",
        "df['address_len'] = df['address'].apply(lambda x: len(x))\n",
        "\n",
        "#Clean Address\n",
        "df[\"clean_address\"] = df[\"address\"].apply(lambda x: preprocess_text(x, flg_stemm=False, flg_lemm=True, ))\n",
        "\n",
        "#Word Count\n",
        "df['clean_address_word_count'] = df[\"clean_address\"].apply(lambda x: len(str(x).split(\" \")))\n",
        "\n",
        "#Character Count\n",
        "df['clean_address_char_count'] = df[\"clean_address\"].apply(lambda x: sum(len(word) for word in str(x).split(\" \")))\n",
        "\n",
        "#Sentence Count    \n",
        "df['clean_address_sentence_count'] = df[\"clean_address\"].apply(lambda x: len(str(x).split(\".\")))\n",
        "\n",
        "#Average Word Length\n",
        "df['clean_address_avg_word_length'] = df['clean_address_char_count'] / df['clean_address_word_count']\n",
        "\n",
        "#Average Sentence Length\n",
        "df['clean_address_avg_sentence_length'] = df['clean_address_word_count'] / df['clean_address_sentence_count']"
      ],
      "execution_count": null,
      "outputs": []
    },
    {
      "cell_type": "markdown",
      "metadata": {
        "id": "b-kzWrgRdqOw"
      },
      "source": [
        "## 7.4 Geospatial Analysis\n",
        "<a name = '74'></a>"
      ]
    },
    {
      "cell_type": "code",
      "metadata": {
        "id": "-GMhsmfidpe0"
      },
      "source": [
        "# city_coords = {}\n",
        "\n",
        "# for dat in city_lat_long.iterrows():\n",
        "#     row = dat[1]\n",
        "#     if row['Name'] not in city_pop_data['City'].values:   \n",
        "#         continue           \n",
        "#     else: \n",
        "#         city_coords[row['Name']] = (float(row['Latitude']), float(row['Longitude']))"
      ],
      "execution_count": null,
      "outputs": []
    },
    {
      "cell_type": "markdown",
      "metadata": {
        "id": "u1w_TQk1d7Fl"
      },
      "source": [
        "### 7.4.1 Rotational Latitude and Longitudes\n",
        "<a name = '741'></a>"
      ]
    },
    {
      "cell_type": "code",
      "metadata": {
        "id": "UBQgcNQK8rqi"
      },
      "source": [
        "df.dropna(inplace = True, subset = ['latitude', 'longitude'])"
      ],
      "execution_count": null,
      "outputs": []
    },
    {
      "cell_type": "markdown",
      "metadata": {
        "id": "K0eJPHjDKkD8"
      },
      "source": [
        "On close inspection of the data it is found that the values of latitude and longitude are interchanged in both train as well as test set. So we intercgange the values.\n",
        "\n",
        "Ideal Value Range:  \n",
        "Latitude  = [-90, 90]  \n",
        "Longitude = [-180, 180]"
      ]
    },
    {
      "cell_type": "code",
      "metadata": {
        "id": "NZuwlnLYLOvZ",
        "colab": {
          "base_uri": "https://localhost:8080/"
        },
        "outputId": "c59e3c31-80f9-45f4-dc97-d0fbd344e172"
      },
      "source": [
        "#Values of Latitude and Longitude before Interchange\n",
        "print(f\"Latitude Range before Interchange =  {df.latitude.min(), df.latitude.max()}\")\n",
        "print(f\"Longitude Range before Interchange = {df.longitude.min(), df.longitude.max()}\")"
      ],
      "execution_count": null,
      "outputs": [
        {
          "output_type": "stream",
          "text": [
            "Latitude Range before Interchange =  (-121.7612481, 175.27804)\n",
            "Longitude Range before Interchange = (-38.391261, 65.18333)\n"
          ],
          "name": "stdout"
        }
      ]
    },
    {
      "cell_type": "code",
      "metadata": {
        "id": "PA5Lwiw4lcj6",
        "colab": {
          "base_uri": "https://localhost:8080/"
        },
        "outputId": "1b16b6f8-83b7-494a-f7f8-1d8f7c9db99d"
      },
      "source": [
        "#Interchange Latitude and Longitude Values\n",
        "df.rename(columns={'latitude':'longitude', 'longitude': 'latitude'}, inplace=True)\n",
        "\n",
        "#Values of Latitude and Longitude after Interchange\n",
        "print(f\"Latitude Range after Interchange =  {df.latitude.min(), df.latitude.max()}\")\n",
        "print(f\"Longitude Range after Interchange = {df.longitude.min(), df.longitude.max()}\")"
      ],
      "execution_count": null,
      "outputs": [
        {
          "output_type": "stream",
          "text": [
            "Latitude Range after Interchange =  (-38.391261, 65.18333)\n",
            "Longitude Range after Interchange = (-121.7612481, 175.27804)\n"
          ],
          "name": "stdout"
        }
      ]
    },
    {
      "cell_type": "code",
      "metadata": {
        "id": "R4M7y8KKla53"
      },
      "source": [
        "df['longitude_15'] = df['longitude']*np.cos(15* np.pi / 180) - df['latitude']*np.sin(15* np.pi/180)\n",
        "df['longitude_30'] = df['longitude']*np.cos(30* np.pi / 180) - df['latitude']*np.sin(30* np.pi/180)\n",
        "df['longitude_45'] = df['longitude']*np.cos(45* np.pi / 180) - df['latitude']*np.sin(45* np.pi/180)\n",
        "df['longitude_60'] = df['longitude']*np.cos(60* np.pi / 180) - df['latitude']*np.sin(60* np.pi/180)\n",
        "df['longitude_75'] = df['longitude']*np.cos(75* np.pi / 180) - df['latitude']*np.sin(75* np.pi/180)\n",
        "\n",
        "df['latitude_15'] = df['longitude']*np.sin(15* np.pi / 180) + df['latitude']*np.cos(15* np.pi/180)\n",
        "df['latitude_30'] = df['longitude']*np.sin(30* np.pi / 180) + df['latitude']*np.cos(30* np.pi/180)\n",
        "df['latitude_45'] = df['longitude']*np.sin(45* np.pi / 180) + df['latitude']*np.cos(45* np.pi/180)\n",
        "df['latitude_60'] = df['longitude']*np.sin(60* np.pi / 180) + df['latitude']*np.cos(60* np.pi/180)\n",
        "df['latitude_75'] = df['longitude']*np.sin(75* np.pi / 180) + df['latitude']*np.cos(75* np.pi/180)"
      ],
      "execution_count": null,
      "outputs": []
    },
    {
      "cell_type": "markdown",
      "metadata": {
        "id": "5ZZ3GiiWsF1X"
      },
      "source": [
        "### 7.4.2 Distance from Capital City \n",
        "<a name = '742'></a>"
      ]
    },
    {
      "cell_type": "code",
      "metadata": {
        "id": "zG6IE8LpsOs8"
      },
      "source": [
        "#Preparing DataFrame for Capital City\n",
        "\n",
        "capital_df = {'capital_city':['Srinagar', 'Jammu', 'Shimla','Chandigarh', 'Dehradun', 'New Delhi', 'Lucknow', 'Patna', 'Ranchi', 'Kolkata', 'Bhubhaneshwar', 'Itanagar', 'Gangtok', 'Kohima', 'Dispur', 'Shillong', 'Imphal', 'Agartala', 'Aizawl', 'Bhopal', 'Raipur', 'Jaipur', 'Gandhinagar', 'Daman', 'Silvassa', 'Mumbai', 'Hyderabad', 'Panaji', 'Bangalore', 'Channai', 'Pondicherry', 'Port Blair', 'Trivandrum', 'Kavaratti'], \n",
        "              'capital_longitude':[74.8,74.8,77.2,76.9,78.0,77.1,80.9,85.1,85.3,88.4,85.8,93.6,88.6,94.2,91.8,91.9,93.9,91.2,92.7,77.4,81.7,75.8,72.7,72.8,73.0,72.8,78.6,73.5,77.6,80.2,79.8,92.7,77.0,72.6],\n",
        "              'capital_latitude':[34.0,32.7,31.1,30.7,30.3,28.5,26.8,25.6,23.3,22.6,20.2,27.1,27.3,25.6,26.1,25.6,24.7,23.9,23.7,23.3,21.2,26.8,23.2,20.4,20.3,18.9,17.5,15.3,12.9,13.0,11.9,11.6,8.5,10.6],\n",
        "              'population(in_millions)':[1.2,1.7,0.7,0.9,1.3,13.8,3.7,4.7,2.8,4.6,0.66,0.035,0.2,0.3,0.8,0.27,0.8,1.5,0.3,1.8,3.0,5.2,1.3,0.1,0.2,11.9,3.8,0.8,4.3,4.2,0.97,0.3,3.2,0.06],\n",
        "              'elevation(MSL)':[1666,367,2202,347,695,233,128,60,647,6,46,524,1756,1406,54,1598,774,16,1026,523,325,390,61,12,32,11,545,52,921,16,6,1,7,4]}\n",
        "\n",
        "capital_df = pd.DataFrame(capital_df)"
      ],
      "execution_count": null,
      "outputs": []
    },
    {
      "cell_type": "code",
      "metadata": {
        "id": "DpuNGLC3wdKn"
      },
      "source": [
        "capital_df.head()"
      ],
      "execution_count": null,
      "outputs": []
    },
    {
      "cell_type": "code",
      "metadata": {
        "id": "YPtwcORiA_hM",
        "colab": {
          "base_uri": "https://localhost:8080/",
          "height": 440
        },
        "outputId": "5c5ebbb1-8045-43b3-d287-d0d3ecebac10"
      },
      "source": [
        "df.head()"
      ],
      "execution_count": null,
      "outputs": [
        {
          "output_type": "execute_result",
          "data": {
            "text/html": [
              "<div>\n",
              "<style scoped>\n",
              "    .dataframe tbody tr th:only-of-type {\n",
              "        vertical-align: middle;\n",
              "    }\n",
              "\n",
              "    .dataframe tbody tr th {\n",
              "        vertical-align: top;\n",
              "    }\n",
              "\n",
              "    .dataframe thead th {\n",
              "        text-align: right;\n",
              "    }\n",
              "</style>\n",
              "<table border=\"1\" class=\"dataframe\">\n",
              "  <thead>\n",
              "    <tr style=\"text-align: right;\">\n",
              "      <th></th>\n",
              "      <th>posted_by</th>\n",
              "      <th>under_construction</th>\n",
              "      <th>rera</th>\n",
              "      <th>bhk_no.</th>\n",
              "      <th>bhk_or_rk</th>\n",
              "      <th>square_ft</th>\n",
              "      <th>ready_to_move</th>\n",
              "      <th>resale</th>\n",
              "      <th>address</th>\n",
              "      <th>latitude</th>\n",
              "      <th>longitude</th>\n",
              "      <th>target(price_in_lacs)</th>\n",
              "      <th>city</th>\n",
              "      <th>city_mean_square_ft</th>\n",
              "      <th>city_max_square_ft</th>\n",
              "      <th>city_min_square_ft</th>\n",
              "      <th>city_mean_bhk_no.</th>\n",
              "      <th>city_max_bhk_no.</th>\n",
              "      <th>city_min_bhk_no.</th>\n",
              "      <th>address_word_0_count</th>\n",
              "      <th>address_word_1_count</th>\n",
              "      <th>address_word_2_count</th>\n",
              "      <th>address_word_3_count</th>\n",
              "      <th>address_word_4_count</th>\n",
              "      <th>address_word_5_count</th>\n",
              "      <th>address_word_6_count</th>\n",
              "      <th>address_word_7_count</th>\n",
              "      <th>address_word_8_count</th>\n",
              "      <th>address_word_9_count</th>\n",
              "      <th>address_word_10_count</th>\n",
              "      <th>address_word_11_count</th>\n",
              "      <th>address_word_12_count</th>\n",
              "      <th>address_word_13_count</th>\n",
              "      <th>address_word_14_count</th>\n",
              "      <th>address_word_15_count</th>\n",
              "      <th>address_word_16_count</th>\n",
              "      <th>address_word_17_count</th>\n",
              "      <th>address_word_18_count</th>\n",
              "      <th>address_word_19_count</th>\n",
              "      <th>address_word_20_count</th>\n",
              "      <th>...</th>\n",
              "      <th>latitude_45</th>\n",
              "      <th>latitude_60</th>\n",
              "      <th>latitude_75</th>\n",
              "      <th>close_city</th>\n",
              "      <th>close_city_distance</th>\n",
              "      <th>close_city_population</th>\n",
              "      <th>close_city_elevation</th>\n",
              "      <th>close_city_name_Agartala</th>\n",
              "      <th>close_city_name_Bangalore</th>\n",
              "      <th>close_city_name_Bhopal</th>\n",
              "      <th>close_city_name_Bhubhaneshwar</th>\n",
              "      <th>close_city_name_Chandigarh</th>\n",
              "      <th>close_city_name_Channai</th>\n",
              "      <th>close_city_name_Daman</th>\n",
              "      <th>close_city_name_Dehradun</th>\n",
              "      <th>close_city_name_Dispur</th>\n",
              "      <th>close_city_name_Gandhinagar</th>\n",
              "      <th>close_city_name_Gangtok</th>\n",
              "      <th>close_city_name_Hyderabad</th>\n",
              "      <th>close_city_name_Imphal</th>\n",
              "      <th>close_city_name_Itanagar</th>\n",
              "      <th>close_city_name_Jaipur</th>\n",
              "      <th>close_city_name_Jammu</th>\n",
              "      <th>close_city_name_Kavaratti</th>\n",
              "      <th>close_city_name_Kohima</th>\n",
              "      <th>close_city_name_Kolkata</th>\n",
              "      <th>close_city_name_Lucknow</th>\n",
              "      <th>close_city_name_Mumbai</th>\n",
              "      <th>close_city_name_New Delhi</th>\n",
              "      <th>close_city_name_Panaji</th>\n",
              "      <th>close_city_name_Patna</th>\n",
              "      <th>close_city_name_Pondicherry</th>\n",
              "      <th>close_city_name_Port Blair</th>\n",
              "      <th>close_city_name_Raipur</th>\n",
              "      <th>close_city_name_Ranchi</th>\n",
              "      <th>close_city_name_Shillong</th>\n",
              "      <th>close_city_name_Shimla</th>\n",
              "      <th>close_city_name_Silvassa</th>\n",
              "      <th>close_city_name_Srinagar</th>\n",
              "      <th>close_city_name_Trivandrum</th>\n",
              "    </tr>\n",
              "  </thead>\n",
              "  <tbody>\n",
              "    <tr>\n",
              "      <th>0</th>\n",
              "      <td>2</td>\n",
              "      <td>0</td>\n",
              "      <td>0</td>\n",
              "      <td>1.098612</td>\n",
              "      <td>0</td>\n",
              "      <td>7.171070</td>\n",
              "      <td>1</td>\n",
              "      <td>1</td>\n",
              "      <td>Ksfc Layout,Bangalore</td>\n",
              "      <td>12.969910</td>\n",
              "      <td>77.597960</td>\n",
              "      <td>4.025352</td>\n",
              "      <td>Bangalore</td>\n",
              "      <td>7.265768</td>\n",
              "      <td>19.354990</td>\n",
              "      <td>3.433988</td>\n",
              "      <td>1.253933</td>\n",
              "      <td>3.044522</td>\n",
              "      <td>0.693147</td>\n",
              "      <td>1</td>\n",
              "      <td>0</td>\n",
              "      <td>0</td>\n",
              "      <td>0</td>\n",
              "      <td>0</td>\n",
              "      <td>0</td>\n",
              "      <td>0</td>\n",
              "      <td>0</td>\n",
              "      <td>0</td>\n",
              "      <td>0</td>\n",
              "      <td>0</td>\n",
              "      <td>0</td>\n",
              "      <td>0</td>\n",
              "      <td>0</td>\n",
              "      <td>0</td>\n",
              "      <td>0</td>\n",
              "      <td>0</td>\n",
              "      <td>0</td>\n",
              "      <td>0</td>\n",
              "      <td>0</td>\n",
              "      <td>0</td>\n",
              "      <td>...</td>\n",
              "      <td>64.041155</td>\n",
              "      <td>73.686760</td>\n",
              "      <td>78.310733</td>\n",
              "      <td>(Bangalore, 7.7373060424043, 4.3, 921)</td>\n",
              "      <td>7.737306</td>\n",
              "      <td>4.3</td>\n",
              "      <td>921</td>\n",
              "      <td>0</td>\n",
              "      <td>1</td>\n",
              "      <td>0</td>\n",
              "      <td>0</td>\n",
              "      <td>0</td>\n",
              "      <td>0</td>\n",
              "      <td>0</td>\n",
              "      <td>0</td>\n",
              "      <td>0</td>\n",
              "      <td>0</td>\n",
              "      <td>0</td>\n",
              "      <td>0</td>\n",
              "      <td>0</td>\n",
              "      <td>0</td>\n",
              "      <td>0</td>\n",
              "      <td>0</td>\n",
              "      <td>0</td>\n",
              "      <td>0</td>\n",
              "      <td>0</td>\n",
              "      <td>0</td>\n",
              "      <td>0</td>\n",
              "      <td>0</td>\n",
              "      <td>0</td>\n",
              "      <td>0</td>\n",
              "      <td>0</td>\n",
              "      <td>0</td>\n",
              "      <td>0</td>\n",
              "      <td>0</td>\n",
              "      <td>0</td>\n",
              "      <td>0</td>\n",
              "      <td>0</td>\n",
              "      <td>0</td>\n",
              "      <td>0</td>\n",
              "    </tr>\n",
              "    <tr>\n",
              "      <th>1</th>\n",
              "      <td>1</td>\n",
              "      <td>0</td>\n",
              "      <td>0</td>\n",
              "      <td>1.098612</td>\n",
              "      <td>0</td>\n",
              "      <td>7.151485</td>\n",
              "      <td>1</td>\n",
              "      <td>1</td>\n",
              "      <td>Vishweshwara Nagar,Mysore</td>\n",
              "      <td>12.274538</td>\n",
              "      <td>76.644605</td>\n",
              "      <td>3.951244</td>\n",
              "      <td>Mysore</td>\n",
              "      <td>7.171865</td>\n",
              "      <td>8.289390</td>\n",
              "      <td>4.110880</td>\n",
              "      <td>1.223913</td>\n",
              "      <td>1.791759</td>\n",
              "      <td>0.693147</td>\n",
              "      <td>0</td>\n",
              "      <td>0</td>\n",
              "      <td>0</td>\n",
              "      <td>0</td>\n",
              "      <td>0</td>\n",
              "      <td>0</td>\n",
              "      <td>0</td>\n",
              "      <td>0</td>\n",
              "      <td>0</td>\n",
              "      <td>0</td>\n",
              "      <td>0</td>\n",
              "      <td>0</td>\n",
              "      <td>0</td>\n",
              "      <td>0</td>\n",
              "      <td>0</td>\n",
              "      <td>0</td>\n",
              "      <td>0</td>\n",
              "      <td>0</td>\n",
              "      <td>0</td>\n",
              "      <td>0</td>\n",
              "      <td>0</td>\n",
              "      <td>...</td>\n",
              "      <td>62.875329</td>\n",
              "      <td>72.513444</td>\n",
              "      <td>77.209888</td>\n",
              "      <td>(Bangalore, 124.75963255860677, 4.3, 921)</td>\n",
              "      <td>124.759633</td>\n",
              "      <td>4.3</td>\n",
              "      <td>921</td>\n",
              "      <td>0</td>\n",
              "      <td>1</td>\n",
              "      <td>0</td>\n",
              "      <td>0</td>\n",
              "      <td>0</td>\n",
              "      <td>0</td>\n",
              "      <td>0</td>\n",
              "      <td>0</td>\n",
              "      <td>0</td>\n",
              "      <td>0</td>\n",
              "      <td>0</td>\n",
              "      <td>0</td>\n",
              "      <td>0</td>\n",
              "      <td>0</td>\n",
              "      <td>0</td>\n",
              "      <td>0</td>\n",
              "      <td>0</td>\n",
              "      <td>0</td>\n",
              "      <td>0</td>\n",
              "      <td>0</td>\n",
              "      <td>0</td>\n",
              "      <td>0</td>\n",
              "      <td>0</td>\n",
              "      <td>0</td>\n",
              "      <td>0</td>\n",
              "      <td>0</td>\n",
              "      <td>0</td>\n",
              "      <td>0</td>\n",
              "      <td>0</td>\n",
              "      <td>0</td>\n",
              "      <td>0</td>\n",
              "      <td>0</td>\n",
              "      <td>0</td>\n",
              "    </tr>\n",
              "    <tr>\n",
              "      <th>2</th>\n",
              "      <td>2</td>\n",
              "      <td>0</td>\n",
              "      <td>0</td>\n",
              "      <td>1.098612</td>\n",
              "      <td>0</td>\n",
              "      <td>6.839647</td>\n",
              "      <td>1</td>\n",
              "      <td>1</td>\n",
              "      <td>Jigani,Bangalore</td>\n",
              "      <td>12.778033</td>\n",
              "      <td>77.632191</td>\n",
              "      <td>3.784190</td>\n",
              "      <td>Bangalore</td>\n",
              "      <td>7.265768</td>\n",
              "      <td>19.354990</td>\n",
              "      <td>3.433988</td>\n",
              "      <td>1.253933</td>\n",
              "      <td>3.044522</td>\n",
              "      <td>0.693147</td>\n",
              "      <td>1</td>\n",
              "      <td>0</td>\n",
              "      <td>0</td>\n",
              "      <td>0</td>\n",
              "      <td>0</td>\n",
              "      <td>0</td>\n",
              "      <td>0</td>\n",
              "      <td>0</td>\n",
              "      <td>0</td>\n",
              "      <td>0</td>\n",
              "      <td>0</td>\n",
              "      <td>0</td>\n",
              "      <td>0</td>\n",
              "      <td>0</td>\n",
              "      <td>0</td>\n",
              "      <td>0</td>\n",
              "      <td>0</td>\n",
              "      <td>0</td>\n",
              "      <td>0</td>\n",
              "      <td>0</td>\n",
              "      <td>0</td>\n",
              "      <td>...</td>\n",
              "      <td>63.929682</td>\n",
              "      <td>73.620466</td>\n",
              "      <td>78.294137</td>\n",
              "      <td>(Bangalore, 13.938261435978871, 4.3, 921)</td>\n",
              "      <td>13.938261</td>\n",
              "      <td>4.3</td>\n",
              "      <td>921</td>\n",
              "      <td>0</td>\n",
              "      <td>1</td>\n",
              "      <td>0</td>\n",
              "      <td>0</td>\n",
              "      <td>0</td>\n",
              "      <td>0</td>\n",
              "      <td>0</td>\n",
              "      <td>0</td>\n",
              "      <td>0</td>\n",
              "      <td>0</td>\n",
              "      <td>0</td>\n",
              "      <td>0</td>\n",
              "      <td>0</td>\n",
              "      <td>0</td>\n",
              "      <td>0</td>\n",
              "      <td>0</td>\n",
              "      <td>0</td>\n",
              "      <td>0</td>\n",
              "      <td>0</td>\n",
              "      <td>0</td>\n",
              "      <td>0</td>\n",
              "      <td>0</td>\n",
              "      <td>0</td>\n",
              "      <td>0</td>\n",
              "      <td>0</td>\n",
              "      <td>0</td>\n",
              "      <td>0</td>\n",
              "      <td>0</td>\n",
              "      <td>0</td>\n",
              "      <td>0</td>\n",
              "      <td>0</td>\n",
              "      <td>0</td>\n",
              "      <td>0</td>\n",
              "    </tr>\n",
              "    <tr>\n",
              "      <th>3</th>\n",
              "      <td>2</td>\n",
              "      <td>0</td>\n",
              "      <td>1</td>\n",
              "      <td>1.098612</td>\n",
              "      <td>0</td>\n",
              "      <td>6.836175</td>\n",
              "      <td>1</td>\n",
              "      <td>1</td>\n",
              "      <td>Sector-1 Vaishali,Ghaziabad</td>\n",
              "      <td>28.642300</td>\n",
              "      <td>77.344500</td>\n",
              "      <td>4.151040</td>\n",
              "      <td>Ghaziabad</td>\n",
              "      <td>7.062903</td>\n",
              "      <td>9.464021</td>\n",
              "      <td>3.496508</td>\n",
              "      <td>1.203225</td>\n",
              "      <td>1.791759</td>\n",
              "      <td>0.693147</td>\n",
              "      <td>0</td>\n",
              "      <td>0</td>\n",
              "      <td>0</td>\n",
              "      <td>0</td>\n",
              "      <td>0</td>\n",
              "      <td>0</td>\n",
              "      <td>0</td>\n",
              "      <td>0</td>\n",
              "      <td>0</td>\n",
              "      <td>0</td>\n",
              "      <td>0</td>\n",
              "      <td>0</td>\n",
              "      <td>0</td>\n",
              "      <td>1</td>\n",
              "      <td>0</td>\n",
              "      <td>0</td>\n",
              "      <td>0</td>\n",
              "      <td>0</td>\n",
              "      <td>0</td>\n",
              "      <td>0</td>\n",
              "      <td>0</td>\n",
              "      <td>...</td>\n",
              "      <td>74.943985</td>\n",
              "      <td>81.303452</td>\n",
              "      <td>82.122223</td>\n",
              "      <td>(New Delhi, 28.65237607952523, 13.8, 233)</td>\n",
              "      <td>28.652376</td>\n",
              "      <td>13.8</td>\n",
              "      <td>233</td>\n",
              "      <td>0</td>\n",
              "      <td>0</td>\n",
              "      <td>0</td>\n",
              "      <td>0</td>\n",
              "      <td>0</td>\n",
              "      <td>0</td>\n",
              "      <td>0</td>\n",
              "      <td>0</td>\n",
              "      <td>0</td>\n",
              "      <td>0</td>\n",
              "      <td>0</td>\n",
              "      <td>0</td>\n",
              "      <td>0</td>\n",
              "      <td>0</td>\n",
              "      <td>0</td>\n",
              "      <td>0</td>\n",
              "      <td>0</td>\n",
              "      <td>0</td>\n",
              "      <td>0</td>\n",
              "      <td>0</td>\n",
              "      <td>0</td>\n",
              "      <td>1</td>\n",
              "      <td>0</td>\n",
              "      <td>0</td>\n",
              "      <td>0</td>\n",
              "      <td>0</td>\n",
              "      <td>0</td>\n",
              "      <td>0</td>\n",
              "      <td>0</td>\n",
              "      <td>0</td>\n",
              "      <td>0</td>\n",
              "      <td>0</td>\n",
              "      <td>0</td>\n",
              "    </tr>\n",
              "    <tr>\n",
              "      <th>4</th>\n",
              "      <td>1</td>\n",
              "      <td>1</td>\n",
              "      <td>0</td>\n",
              "      <td>1.098612</td>\n",
              "      <td>0</td>\n",
              "      <td>6.907765</td>\n",
              "      <td>0</td>\n",
              "      <td>1</td>\n",
              "      <td>New Town,Kolkata</td>\n",
              "      <td>22.592200</td>\n",
              "      <td>88.484911</td>\n",
              "      <td>4.119037</td>\n",
              "      <td>Kolkata</td>\n",
              "      <td>7.047386</td>\n",
              "      <td>12.119422</td>\n",
              "      <td>4.700489</td>\n",
              "      <td>1.255454</td>\n",
              "      <td>2.772589</td>\n",
              "      <td>0.693147</td>\n",
              "      <td>0</td>\n",
              "      <td>0</td>\n",
              "      <td>0</td>\n",
              "      <td>0</td>\n",
              "      <td>0</td>\n",
              "      <td>0</td>\n",
              "      <td>0</td>\n",
              "      <td>0</td>\n",
              "      <td>0</td>\n",
              "      <td>0</td>\n",
              "      <td>0</td>\n",
              "      <td>0</td>\n",
              "      <td>0</td>\n",
              "      <td>0</td>\n",
              "      <td>0</td>\n",
              "      <td>0</td>\n",
              "      <td>0</td>\n",
              "      <td>0</td>\n",
              "      <td>0</td>\n",
              "      <td>0</td>\n",
              "      <td>0</td>\n",
              "      <td>...</td>\n",
              "      <td>78.543378</td>\n",
              "      <td>87.926281</td>\n",
              "      <td>91.317152</td>\n",
              "      <td>(Kolkata, 8.773597826766782, 4.6, 6)</td>\n",
              "      <td>8.773598</td>\n",
              "      <td>4.6</td>\n",
              "      <td>6</td>\n",
              "      <td>0</td>\n",
              "      <td>0</td>\n",
              "      <td>0</td>\n",
              "      <td>0</td>\n",
              "      <td>0</td>\n",
              "      <td>0</td>\n",
              "      <td>0</td>\n",
              "      <td>0</td>\n",
              "      <td>0</td>\n",
              "      <td>0</td>\n",
              "      <td>0</td>\n",
              "      <td>0</td>\n",
              "      <td>0</td>\n",
              "      <td>0</td>\n",
              "      <td>0</td>\n",
              "      <td>0</td>\n",
              "      <td>0</td>\n",
              "      <td>0</td>\n",
              "      <td>1</td>\n",
              "      <td>0</td>\n",
              "      <td>0</td>\n",
              "      <td>0</td>\n",
              "      <td>0</td>\n",
              "      <td>0</td>\n",
              "      <td>0</td>\n",
              "      <td>0</td>\n",
              "      <td>0</td>\n",
              "      <td>0</td>\n",
              "      <td>0</td>\n",
              "      <td>0</td>\n",
              "      <td>0</td>\n",
              "      <td>0</td>\n",
              "      <td>0</td>\n",
              "    </tr>\n",
              "  </tbody>\n",
              "</table>\n",
              "<p>5 rows × 125 columns</p>\n",
              "</div>"
            ],
            "text/plain": [
              "   posted_by  ...  close_city_name_Trivandrum\n",
              "0          2  ...                           0\n",
              "1          1  ...                           0\n",
              "2          2  ...                           0\n",
              "3          2  ...                           0\n",
              "4          1  ...                           0\n",
              "\n",
              "[5 rows x 125 columns]"
            ]
          },
          "metadata": {
            "tags": []
          },
          "execution_count": 68
        }
      ]
    },
    {
      "cell_type": "code",
      "metadata": {
        "id": "t4tq9HI5ytCg"
      },
      "source": [
        "#Function to obtin closest Capital City from given location\n",
        "def closest_point(location, capital_df = capital_df):\n",
        "    closest_location = None\n",
        "\n",
        "    for _, row in capital_df.iterrows(): \n",
        "        distance = vincenty(location, (row['capital_latitude'], row['capital_longitude'])).kilometers\n",
        "        if closest_location is None:\n",
        "            closest_location = (row['capital_city'], distance, row['population(in_millions)'], row['elevation(MSL)'], row['capital_latitude'], row['capital_longitude'])\n",
        "        elif distance < closest_location[1]:\n",
        "            closest_location = (row['capital_city'], distance, row['population(in_millions)'], row['elevation(MSL)'], row['capital_latitude'], row['capital_longitude'])\n",
        "    return closest_location"
      ],
      "execution_count": null,
      "outputs": []
    },
    {
      "cell_type": "code",
      "metadata": {
        "id": "4M862ZrB2KXf"
      },
      "source": [
        "df['close_city'] = df.apply(lambda x: closest_point((x['latitude'],x['longitude']),capital_df), axis = 1)\n",
        "df['close_city_name'] = [x[0] for x in df['close_city'].values]\n",
        "df['close_city_distance'] = [x[1] for x in df['close_city'].values]\n",
        "df['close_city_population'] = [x[2] for x in df['close_city'].values]\n",
        "df['close_city_elevation'] = [x[3] for x in df['close_city'].values]\n",
        "df['close_city_latitude'] = [x[4] for x in df['close_city'].values]\n",
        "df['close_city_longitude'] = [x[4] for x in df['close_city'].values]  "
      ],
      "execution_count": null,
      "outputs": []
    },
    {
      "cell_type": "code",
      "metadata": {
        "id": "bvU9BxAoRmes"
      },
      "source": [
        "df = pd.get_dummies(df, columns = ['close_city_name'])"
      ],
      "execution_count": null,
      "outputs": []
    },
    {
      "cell_type": "markdown",
      "metadata": {
        "id": "jHs7UzdFPGbx"
      },
      "source": [
        "### 7.4.3 Haversine Distance\n",
        "<a name = '743'></a>"
      ]
    },
    {
      "cell_type": "code",
      "metadata": {
        "id": "XTDBbCXSPEH4"
      },
      "source": [
        "def haversine_dist(lat1,lng1,lat2,lng2):\n",
        "  lat1, lng1, lat2, lng2 = map(np.radians, (lat1, lng1, lat2, lng2))\n",
        "  radius = 6371  # Earth's radius taken from google\n",
        "  lat = lat2 - lat1\n",
        "  lng = lng2 - lng1\n",
        "  d = np.sin(lat/2) ** 2 + np.cos(lat1) * np.cos(lat2) * np.sin(lng/2) ** 2\n",
        "  h = 2 * radius * np.arcsin(np.sqrt(d))\n",
        "  return h\n",
        "\n",
        "# def haversine_calculation(location, capital_df = capital_df):\n",
        "#       closest_location = None\n",
        "#       lat1, lng1 = location\n",
        "      \n",
        "#       for _, row in capital_df.iterrows(): \n",
        "#         distance = haversine_dist(lat1, lng1, lat2 = row['capital_latitude'], lng2 = row['capital_longitude'])\n",
        "#         if closest_location is None:\n",
        "#             closest_location = distance\n",
        "#         elif distance < closest_location:\n",
        "#             closest_location = distance\n",
        "#       return closest_location"
      ],
      "execution_count": null,
      "outputs": []
    },
    {
      "cell_type": "code",
      "metadata": {
        "id": "Gjjz2DwdQ2C9"
      },
      "source": [
        "# df['haversineDist'] = df.apply(lambda x: haversine_calculation((x['latitude'],x['longitude']),capital_df), axis = 1)\n",
        "\n",
        "df['haversineDist'] = df.apply(lambda x: haversine_dist(lat1 = x['latitude'], lng1 = x['longitude'], lat2 = x['close_city_latitude'], lng2 = x['close_city_longitude']), axis = 1)"
      ],
      "execution_count": null,
      "outputs": []
    },
    {
      "cell_type": "code",
      "metadata": {
        "id": "r5aWN5vcdkDY"
      },
      "source": [
        "df['haversineDist']"
      ],
      "execution_count": null,
      "outputs": []
    },
    {
      "cell_type": "markdown",
      "metadata": {
        "id": "EEsW9D03YZOA"
      },
      "source": [
        "### 7.4.5 Manhattan Distance\n",
        "<a name = '745'></a>"
      ]
    },
    {
      "cell_type": "code",
      "metadata": {
        "id": "-gUI9vJCYhUQ"
      },
      "source": [
        "def manhattan_dist(lat1, lng1, lat2, lng2):\n",
        "    '''\n",
        "    calculating two haversine distances by,\n",
        "     - avoiding Latitude of one point \n",
        "     - avoiding Longitude of one point\n",
        "    and adding it together.\n",
        "    '''\n",
        "    a = haversine_dist(lat1, lng1, lat1, lng2)\n",
        "    b = haversine_dist(lat1, lng1, lat2, lng1)\n",
        "    return a + b"
      ],
      "execution_count": null,
      "outputs": []
    },
    {
      "cell_type": "code",
      "metadata": {
        "id": "mYaACwjodzB4"
      },
      "source": [
        "df['manhattanDist'] = df.apply(lambda x: manhattan_dist(lat1 = x['latitude'], lng1 = x['longitude'], lat2 = x['close_city_latitude'], lng2 = x['close_city_longitude']), axis = 1)"
      ],
      "execution_count": null,
      "outputs": []
    },
    {
      "cell_type": "code",
      "metadata": {
        "id": "VDSgxMoCeDAn",
        "colab": {
          "base_uri": "https://localhost:8080/",
          "height": 221
        },
        "outputId": "f18cfe5b-269e-44ff-92a8-91220d360d1c"
      },
      "source": [
        "df['manhattanDist']"
      ],
      "execution_count": null,
      "outputs": [
        {
          "output_type": "execute_result",
          "data": {
            "text/plain": [
              "0        6997.000925\n",
              "1        6977.301529\n",
              "2        7012.428229\n",
              "3        4747.416611\n",
              "4        6702.994376\n",
              "            ...     \n",
              "98166    5684.349303\n",
              "98167    4376.332075\n",
              "98168    5690.059620\n",
              "98169    5824.579616\n",
              "98170    5673.009604\n",
              "Name: manhattanDist, Length: 98171, dtype: float64"
            ]
          },
          "metadata": {
            "tags": []
          },
          "execution_count": 25
        }
      ]
    },
    {
      "cell_type": "markdown",
      "metadata": {
        "id": "nwpU9ffeWzUe"
      },
      "source": [
        "### 7.4.6 Bearing Degree\n",
        "<a name = '746'></a>"
      ]
    },
    {
      "cell_type": "code",
      "metadata": {
        "id": "X4JaoCpvZQfK"
      },
      "source": [
        "def bearing_degree(lat1, lng1, lat2, lng2):\n",
        "    '''\n",
        "    calculate angle between two points\n",
        "    '''\n",
        "    radius = 6371  # Mean radius of Earth\n",
        "    diff_lng = np.radians(lng2 - lng1)\n",
        "    lat1, lng1, lat2, lng2 = map(np.radians, (lat1, lng1, lat2, lng2))\n",
        "    y = np.sin(diff_lng) * np.cos(lat2)\n",
        "    x = np.cos(lat1) * np.sin(lat2) - np.sin(lat1) * np.cos(lat2) * np.cos(diff_lng)\n",
        "    return np.degrees(np.arctan2(y, x))"
      ],
      "execution_count": null,
      "outputs": []
    },
    {
      "cell_type": "code",
      "metadata": {
        "id": "C-mgUL2_eJAE"
      },
      "source": [
        "df['bearingDegree'] = df.apply(lambda x: bearing_degree(lat1 = x['latitude'], lng1 = x['longitude'], lat2 = x['close_city_latitude'], lng2 = x['close_city_longitude']), axis = 1)"
      ],
      "execution_count": null,
      "outputs": []
    },
    {
      "cell_type": "code",
      "metadata": {
        "id": "RphEEg77eUVQ",
        "colab": {
          "base_uri": "https://localhost:8080/",
          "height": 221
        },
        "outputId": "ac53d76c-34ff-40c8-9327-e1b83dc3402c"
      },
      "source": [
        "df['bearingDegree']"
      ],
      "execution_count": null,
      "outputs": [
        {
          "output_type": "execute_result",
          "data": {
            "text/plain": [
              "0       -81.987195\n",
              "1       -81.767908\n",
              "2       -81.884727\n",
              "3       -77.925866\n",
              "4       -76.012513\n",
              "           ...    \n",
              "98166   -80.840069\n",
              "98167   -77.712674\n",
              "98168   -80.868702\n",
              "98169   -80.108509\n",
              "98170   -80.810145\n",
              "Name: bearingDegree, Length: 98171, dtype: float64"
            ]
          },
          "metadata": {
            "tags": []
          },
          "execution_count": 28
        }
      ]
    },
    {
      "cell_type": "markdown",
      "metadata": {
        "id": "JL7qUtZ-ZVLR"
      },
      "source": [
        "### 7.4.7 Rotation with PCA\n",
        "<a name = '747'></a>"
      ]
    },
    {
      "cell_type": "code",
      "metadata": {
        "id": "zQT5k6rAZhT-"
      },
      "source": [
        "from sklearn.decomposition import PCA\n",
        "def pca(data):\n",
        "  '''\n",
        "  input: dataframe containing Latitude and Longitude\n",
        "  '''\n",
        "  coordinates = data[['latitude','longitude']].values\n",
        "  pca_obj = PCA().fit(coordinates)\n",
        "  pca_latitude = pca_obj.transform(data[['latitude', 'longitude']])[:,0]\n",
        "  pca_longitude = pca_obj.transform(data[['latitude', 'longitude']])[:,1]\n",
        "  return pca_latitude, pca_longitude"
      ],
      "execution_count": null,
      "outputs": []
    },
    {
      "cell_type": "code",
      "metadata": {
        "id": "vtqCbm7febBa"
      },
      "source": [
        "df['latitudePCA'], df['longitudePCA'] = pca(df)"
      ],
      "execution_count": null,
      "outputs": []
    },
    {
      "cell_type": "markdown",
      "metadata": {
        "id": "riq2x3xqc4To"
      },
      "source": [
        "## 7. Obtain Processed Data"
      ]
    },
    {
      "cell_type": "code",
      "metadata": {
        "id": "f-dcQ15ffroN",
        "colab": {
          "base_uri": "https://localhost:8080/",
          "height": 242
        },
        "outputId": "3fa76a51-beff-4953-dcab-6692f28149d7"
      },
      "source": [
        "df.head(3)"
      ],
      "execution_count": null,
      "outputs": [
        {
          "output_type": "execute_result",
          "data": {
            "text/html": [
              "<div>\n",
              "<style scoped>\n",
              "    .dataframe tbody tr th:only-of-type {\n",
              "        vertical-align: middle;\n",
              "    }\n",
              "\n",
              "    .dataframe tbody tr th {\n",
              "        vertical-align: top;\n",
              "    }\n",
              "\n",
              "    .dataframe thead th {\n",
              "        text-align: right;\n",
              "    }\n",
              "</style>\n",
              "<table border=\"1\" class=\"dataframe\">\n",
              "  <thead>\n",
              "    <tr style=\"text-align: right;\">\n",
              "      <th></th>\n",
              "      <th>posted_by</th>\n",
              "      <th>under_construction</th>\n",
              "      <th>rera</th>\n",
              "      <th>bhk_no.</th>\n",
              "      <th>bhk_or_rk</th>\n",
              "      <th>square_ft</th>\n",
              "      <th>ready_to_move</th>\n",
              "      <th>resale</th>\n",
              "      <th>address</th>\n",
              "      <th>latitude</th>\n",
              "      <th>longitude</th>\n",
              "      <th>target(price_in_lacs)</th>\n",
              "      <th>city</th>\n",
              "      <th>city_mean_square_ft</th>\n",
              "      <th>city_max_square_ft</th>\n",
              "      <th>city_min_square_ft</th>\n",
              "      <th>city_mean_bhk_no.</th>\n",
              "      <th>city_max_bhk_no.</th>\n",
              "      <th>city_min_bhk_no.</th>\n",
              "      <th>address_word_0_count</th>\n",
              "      <th>address_word_1_count</th>\n",
              "      <th>address_word_2_count</th>\n",
              "      <th>address_word_3_count</th>\n",
              "      <th>address_word_4_count</th>\n",
              "      <th>address_word_5_count</th>\n",
              "      <th>address_word_6_count</th>\n",
              "      <th>address_word_7_count</th>\n",
              "      <th>address_word_8_count</th>\n",
              "      <th>address_word_9_count</th>\n",
              "      <th>address_word_10_count</th>\n",
              "      <th>address_word_11_count</th>\n",
              "      <th>address_word_12_count</th>\n",
              "      <th>address_word_13_count</th>\n",
              "      <th>address_word_14_count</th>\n",
              "      <th>address_word_15_count</th>\n",
              "      <th>address_word_16_count</th>\n",
              "      <th>address_word_17_count</th>\n",
              "      <th>address_word_18_count</th>\n",
              "      <th>address_word_19_count</th>\n",
              "      <th>address_word_20_count</th>\n",
              "      <th>...</th>\n",
              "      <th>close_city_longitude</th>\n",
              "      <th>close_city_name_Agartala</th>\n",
              "      <th>close_city_name_Aizawl</th>\n",
              "      <th>close_city_name_Bangalore</th>\n",
              "      <th>close_city_name_Bhopal</th>\n",
              "      <th>close_city_name_Bhubhaneshwar</th>\n",
              "      <th>close_city_name_Chandigarh</th>\n",
              "      <th>close_city_name_Channai</th>\n",
              "      <th>close_city_name_Daman</th>\n",
              "      <th>close_city_name_Dehradun</th>\n",
              "      <th>close_city_name_Dispur</th>\n",
              "      <th>close_city_name_Gandhinagar</th>\n",
              "      <th>close_city_name_Gangtok</th>\n",
              "      <th>close_city_name_Hyderabad</th>\n",
              "      <th>close_city_name_Imphal</th>\n",
              "      <th>close_city_name_Itanagar</th>\n",
              "      <th>close_city_name_Jaipur</th>\n",
              "      <th>close_city_name_Jammu</th>\n",
              "      <th>close_city_name_Kavaratti</th>\n",
              "      <th>close_city_name_Kohima</th>\n",
              "      <th>close_city_name_Kolkata</th>\n",
              "      <th>close_city_name_Lucknow</th>\n",
              "      <th>close_city_name_Mumbai</th>\n",
              "      <th>close_city_name_New Delhi</th>\n",
              "      <th>close_city_name_Panaji</th>\n",
              "      <th>close_city_name_Patna</th>\n",
              "      <th>close_city_name_Pondicherry</th>\n",
              "      <th>close_city_name_Port Blair</th>\n",
              "      <th>close_city_name_Raipur</th>\n",
              "      <th>close_city_name_Ranchi</th>\n",
              "      <th>close_city_name_Shillong</th>\n",
              "      <th>close_city_name_Shimla</th>\n",
              "      <th>close_city_name_Silvassa</th>\n",
              "      <th>close_city_name_Srinagar</th>\n",
              "      <th>close_city_name_Trivandrum</th>\n",
              "      <th>haversineDist</th>\n",
              "      <th>manhattanDist</th>\n",
              "      <th>bearingDegree</th>\n",
              "      <th>latitudePCA</th>\n",
              "      <th>longitudePCA</th>\n",
              "    </tr>\n",
              "  </thead>\n",
              "  <tbody>\n",
              "    <tr>\n",
              "      <th>0</th>\n",
              "      <td>2</td>\n",
              "      <td>0</td>\n",
              "      <td>0</td>\n",
              "      <td>1.098612</td>\n",
              "      <td>0</td>\n",
              "      <td>7.171070</td>\n",
              "      <td>1</td>\n",
              "      <td>1</td>\n",
              "      <td>Ksfc Layout,Bangalore</td>\n",
              "      <td>12.969910</td>\n",
              "      <td>77.597960</td>\n",
              "      <td>4.025352</td>\n",
              "      <td>Bangalore</td>\n",
              "      <td>7.265768</td>\n",
              "      <td>19.35499</td>\n",
              "      <td>3.433988</td>\n",
              "      <td>1.253933</td>\n",
              "      <td>3.044522</td>\n",
              "      <td>0.693147</td>\n",
              "      <td>1</td>\n",
              "      <td>0</td>\n",
              "      <td>0</td>\n",
              "      <td>0</td>\n",
              "      <td>0</td>\n",
              "      <td>0</td>\n",
              "      <td>0</td>\n",
              "      <td>0</td>\n",
              "      <td>0</td>\n",
              "      <td>0</td>\n",
              "      <td>0</td>\n",
              "      <td>0</td>\n",
              "      <td>0</td>\n",
              "      <td>0</td>\n",
              "      <td>0</td>\n",
              "      <td>0</td>\n",
              "      <td>0</td>\n",
              "      <td>0</td>\n",
              "      <td>0</td>\n",
              "      <td>0</td>\n",
              "      <td>0</td>\n",
              "      <td>...</td>\n",
              "      <td>12.9</td>\n",
              "      <td>0</td>\n",
              "      <td>0</td>\n",
              "      <td>1</td>\n",
              "      <td>0</td>\n",
              "      <td>0</td>\n",
              "      <td>0</td>\n",
              "      <td>0</td>\n",
              "      <td>0</td>\n",
              "      <td>0</td>\n",
              "      <td>0</td>\n",
              "      <td>0</td>\n",
              "      <td>0</td>\n",
              "      <td>0</td>\n",
              "      <td>0</td>\n",
              "      <td>0</td>\n",
              "      <td>0</td>\n",
              "      <td>0</td>\n",
              "      <td>0</td>\n",
              "      <td>0</td>\n",
              "      <td>0</td>\n",
              "      <td>0</td>\n",
              "      <td>0</td>\n",
              "      <td>0</td>\n",
              "      <td>0</td>\n",
              "      <td>0</td>\n",
              "      <td>0</td>\n",
              "      <td>0</td>\n",
              "      <td>0</td>\n",
              "      <td>0</td>\n",
              "      <td>0</td>\n",
              "      <td>0</td>\n",
              "      <td>0</td>\n",
              "      <td>0</td>\n",
              "      <td>0</td>\n",
              "      <td>6990.323720</td>\n",
              "      <td>6997.000925</td>\n",
              "      <td>-81.987195</td>\n",
              "      <td>-1.826053</td>\n",
              "      <td>8.149367</td>\n",
              "    </tr>\n",
              "    <tr>\n",
              "      <th>1</th>\n",
              "      <td>1</td>\n",
              "      <td>0</td>\n",
              "      <td>0</td>\n",
              "      <td>1.098612</td>\n",
              "      <td>0</td>\n",
              "      <td>7.151485</td>\n",
              "      <td>1</td>\n",
              "      <td>1</td>\n",
              "      <td>Vishweshwara Nagar,Mysore</td>\n",
              "      <td>12.274538</td>\n",
              "      <td>76.644605</td>\n",
              "      <td>3.951244</td>\n",
              "      <td>Mysore</td>\n",
              "      <td>7.171865</td>\n",
              "      <td>8.28939</td>\n",
              "      <td>4.110880</td>\n",
              "      <td>1.223913</td>\n",
              "      <td>1.791759</td>\n",
              "      <td>0.693147</td>\n",
              "      <td>0</td>\n",
              "      <td>0</td>\n",
              "      <td>0</td>\n",
              "      <td>0</td>\n",
              "      <td>0</td>\n",
              "      <td>0</td>\n",
              "      <td>0</td>\n",
              "      <td>0</td>\n",
              "      <td>0</td>\n",
              "      <td>0</td>\n",
              "      <td>0</td>\n",
              "      <td>0</td>\n",
              "      <td>0</td>\n",
              "      <td>0</td>\n",
              "      <td>0</td>\n",
              "      <td>0</td>\n",
              "      <td>0</td>\n",
              "      <td>0</td>\n",
              "      <td>0</td>\n",
              "      <td>0</td>\n",
              "      <td>0</td>\n",
              "      <td>...</td>\n",
              "      <td>12.9</td>\n",
              "      <td>0</td>\n",
              "      <td>0</td>\n",
              "      <td>1</td>\n",
              "      <td>0</td>\n",
              "      <td>0</td>\n",
              "      <td>0</td>\n",
              "      <td>0</td>\n",
              "      <td>0</td>\n",
              "      <td>0</td>\n",
              "      <td>0</td>\n",
              "      <td>0</td>\n",
              "      <td>0</td>\n",
              "      <td>0</td>\n",
              "      <td>0</td>\n",
              "      <td>0</td>\n",
              "      <td>0</td>\n",
              "      <td>0</td>\n",
              "      <td>0</td>\n",
              "      <td>0</td>\n",
              "      <td>0</td>\n",
              "      <td>0</td>\n",
              "      <td>0</td>\n",
              "      <td>0</td>\n",
              "      <td>0</td>\n",
              "      <td>0</td>\n",
              "      <td>0</td>\n",
              "      <td>0</td>\n",
              "      <td>0</td>\n",
              "      <td>0</td>\n",
              "      <td>0</td>\n",
              "      <td>0</td>\n",
              "      <td>0</td>\n",
              "      <td>0</td>\n",
              "      <td>0</td>\n",
              "      <td>6898.836920</td>\n",
              "      <td>6977.301529</td>\n",
              "      <td>-81.767908</td>\n",
              "      <td>-0.975899</td>\n",
              "      <td>8.967699</td>\n",
              "    </tr>\n",
              "    <tr>\n",
              "      <th>2</th>\n",
              "      <td>2</td>\n",
              "      <td>0</td>\n",
              "      <td>0</td>\n",
              "      <td>1.098612</td>\n",
              "      <td>0</td>\n",
              "      <td>6.839647</td>\n",
              "      <td>1</td>\n",
              "      <td>1</td>\n",
              "      <td>Jigani,Bangalore</td>\n",
              "      <td>12.778033</td>\n",
              "      <td>77.632191</td>\n",
              "      <td>3.784190</td>\n",
              "      <td>Bangalore</td>\n",
              "      <td>7.265768</td>\n",
              "      <td>19.35499</td>\n",
              "      <td>3.433988</td>\n",
              "      <td>1.253933</td>\n",
              "      <td>3.044522</td>\n",
              "      <td>0.693147</td>\n",
              "      <td>1</td>\n",
              "      <td>0</td>\n",
              "      <td>0</td>\n",
              "      <td>0</td>\n",
              "      <td>0</td>\n",
              "      <td>0</td>\n",
              "      <td>0</td>\n",
              "      <td>0</td>\n",
              "      <td>0</td>\n",
              "      <td>0</td>\n",
              "      <td>0</td>\n",
              "      <td>0</td>\n",
              "      <td>0</td>\n",
              "      <td>0</td>\n",
              "      <td>0</td>\n",
              "      <td>0</td>\n",
              "      <td>0</td>\n",
              "      <td>0</td>\n",
              "      <td>0</td>\n",
              "      <td>0</td>\n",
              "      <td>0</td>\n",
              "      <td>...</td>\n",
              "      <td>12.9</td>\n",
              "      <td>0</td>\n",
              "      <td>0</td>\n",
              "      <td>1</td>\n",
              "      <td>0</td>\n",
              "      <td>0</td>\n",
              "      <td>0</td>\n",
              "      <td>0</td>\n",
              "      <td>0</td>\n",
              "      <td>0</td>\n",
              "      <td>0</td>\n",
              "      <td>0</td>\n",
              "      <td>0</td>\n",
              "      <td>0</td>\n",
              "      <td>0</td>\n",
              "      <td>0</td>\n",
              "      <td>0</td>\n",
              "      <td>0</td>\n",
              "      <td>0</td>\n",
              "      <td>0</td>\n",
              "      <td>0</td>\n",
              "      <td>0</td>\n",
              "      <td>0</td>\n",
              "      <td>0</td>\n",
              "      <td>0</td>\n",
              "      <td>0</td>\n",
              "      <td>0</td>\n",
              "      <td>0</td>\n",
              "      <td>0</td>\n",
              "      <td>0</td>\n",
              "      <td>0</td>\n",
              "      <td>0</td>\n",
              "      <td>0</td>\n",
              "      <td>0</td>\n",
              "      <td>0</td>\n",
              "      <td>6996.990647</td>\n",
              "      <td>7012.428229</td>\n",
              "      <td>-81.884727</td>\n",
              "      <td>-1.886009</td>\n",
              "      <td>8.334822</td>\n",
              "    </tr>\n",
              "  </tbody>\n",
              "</table>\n",
              "<p>3 rows × 133 columns</p>\n",
              "</div>"
            ],
            "text/plain": [
              "   posted_by  under_construction  ...  latitudePCA  longitudePCA\n",
              "0          2                   0  ...    -1.826053      8.149367\n",
              "1          1                   0  ...    -0.975899      8.967699\n",
              "2          2                   0  ...    -1.886009      8.334822\n",
              "\n",
              "[3 rows x 133 columns]"
            ]
          },
          "metadata": {
            "tags": []
          },
          "execution_count": 38
        }
      ]
    },
    {
      "cell_type": "code",
      "metadata": {
        "id": "CPWIC0HI7CvG"
      },
      "source": [
        "#Obtain Processed Data Sets\n",
        "\n",
        "trainPro, testPro, features = split_df_and_get_features(df, train.shape[0])\n",
        "features = [c for c in df.columns if c not in [TARGET_COL]]\n",
        "cat_num_cols = [c for c in features if c not in ['address', 'city', 'clean_address', 'close_city', 'close_city_name']]"
      ],
      "execution_count": null,
      "outputs": []
    },
    {
      "cell_type": "code",
      "metadata": {
        "id": "4WNJGr25YLec"
      },
      "source": [
        "df.columns"
      ],
      "execution_count": null,
      "outputs": []
    },
    {
      "cell_type": "markdown",
      "metadata": {
        "id": "x0x62_nJdgiu"
      },
      "source": [
        "## 7. Apply Feature Engineered Data to Model"
      ]
    },
    {
      "cell_type": "code",
      "metadata": {
        "id": "Pkq6dmjp7ZXD",
        "colab": {
          "base_uri": "https://localhost:8080/",
          "height": 1000
        },
        "outputId": "47aa91f9-57f6-45a6-8c9f-0953fdc20292"
      },
      "source": [
        "lgb = LGBMRegressor(n_estimators = 5000,\n",
        "                        learning_rate = 0.05,\n",
        "                        colsample_bytree = 0.65,\n",
        "                        metric = 'None',\n",
        "                        random_state = 42\n",
        "                        )\n",
        "fit_params = {'verbose': 300, 'early_stopping_rounds': 200, 'eval_metric': 'rmse'}\n",
        "\n",
        "lgb_oofs, lgb_preds, fi = run_gradient_boosting(lgb, fit_params, trainPro, testPro, cat_num_cols)"
      ],
      "execution_count": null,
      "outputs": [
        {
          "output_type": "stream",
          "text": [
            "\n",
            "------------- Fold 1 -------------\n",
            "Training until validation scores don't improve for 200 rounds.\n",
            "[300]\tvalid_0's rmse: 0.297277\n",
            "[600]\tvalid_0's rmse: 0.286958\n",
            "[900]\tvalid_0's rmse: 0.28276\n",
            "[1200]\tvalid_0's rmse: 0.281177\n",
            "[1500]\tvalid_0's rmse: 0.280628\n",
            "[1800]\tvalid_0's rmse: 0.280322\n",
            "Early stopping, best iteration is:\n",
            "[1809]\tvalid_0's rmse: 0.28026\n",
            "\n",
            "MH metric score for validation set is 0.2802595864370378\n",
            "\n",
            "------------- Fold 2 -------------\n",
            "Training until validation scores don't improve for 200 rounds.\n",
            "[300]\tvalid_0's rmse: 0.307047\n",
            "[600]\tvalid_0's rmse: 0.296654\n",
            "[900]\tvalid_0's rmse: 0.292038\n",
            "[1200]\tvalid_0's rmse: 0.290582\n",
            "[1500]\tvalid_0's rmse: 0.289586\n",
            "[1800]\tvalid_0's rmse: 0.288752\n",
            "[2100]\tvalid_0's rmse: 0.288772\n",
            "Early stopping, best iteration is:\n",
            "[1947]\tvalid_0's rmse: 0.288647\n",
            "\n",
            "MH metric score for validation set is 0.2886473169472021\n",
            "\n",
            "------------- Fold 3 -------------\n",
            "Training until validation scores don't improve for 200 rounds.\n",
            "[300]\tvalid_0's rmse: 0.30637\n",
            "[600]\tvalid_0's rmse: 0.296519\n",
            "[900]\tvalid_0's rmse: 0.292745\n",
            "[1200]\tvalid_0's rmse: 0.291601\n",
            "[1500]\tvalid_0's rmse: 0.290671\n",
            "[1800]\tvalid_0's rmse: 0.290522\n",
            "[2100]\tvalid_0's rmse: 0.290091\n",
            "Early stopping, best iteration is:\n",
            "[2047]\tvalid_0's rmse: 0.289986\n",
            "\n",
            "MH metric score for validation set is 0.28998613992642286\n",
            "\n",
            "------------- Fold 4 -------------\n",
            "Training until validation scores don't improve for 200 rounds.\n",
            "[300]\tvalid_0's rmse: 0.300791\n",
            "[600]\tvalid_0's rmse: 0.291083\n",
            "[900]\tvalid_0's rmse: 0.287292\n",
            "[1200]\tvalid_0's rmse: 0.285042\n",
            "[1500]\tvalid_0's rmse: 0.284315\n",
            "[1800]\tvalid_0's rmse: 0.284132\n",
            "Early stopping, best iteration is:\n",
            "[1647]\tvalid_0's rmse: 0.283982\n",
            "\n",
            "MH metric score for validation set is 0.28398180065672696\n",
            "\n",
            "------------- Fold 5 -------------\n",
            "Training until validation scores don't improve for 200 rounds.\n",
            "[300]\tvalid_0's rmse: 0.325411\n",
            "[600]\tvalid_0's rmse: 0.316882\n",
            "[900]\tvalid_0's rmse: 0.312547\n",
            "[1200]\tvalid_0's rmse: 0.310393\n",
            "[1500]\tvalid_0's rmse: 0.30978\n",
            "[1800]\tvalid_0's rmse: 0.30912\n",
            "[2100]\tvalid_0's rmse: 0.308934\n",
            "Early stopping, best iteration is:\n",
            "[2084]\tvalid_0's rmse: 0.308794\n",
            "\n",
            "MH metric score for validation set is 0.3087937289690765\n",
            "\n",
            "\n",
            "MH metric for oofs is 0.2905005709083082\n"
          ],
          "name": "stdout"
        },
        {
          "output_type": "display_data",
          "data": {
            "image/png": "[encoded data removed]",
            "text/plain": [
              "<Figure size 864x432 with 1 Axes>"
            ]
          },
          "metadata": {
            "tags": []
          }
        }
      ]
    },
    {
      "cell_type": "code",
      "metadata": {
        "id": "qezctBgX7fJf"
      },
      "source": [
        "# lgb_preds_t = np.expm1(lgb_preds)\n",
        "# download_preds(lgb_preds_t, file_name = 's30_lgb_log.csv')   \n",
        "\n",
        "!mv s30_lgb_log.csv '/content/MyDrive/My Drive/Data Science/Machine Hack/Housing Price Prediction 2020/Submission Files'"
      ],
      "execution_count": null,
      "outputs": []
    },
    {
      "cell_type": "code",
      "metadata": {
        "id": "VNMUWxtO8Ti7"
      },
      "source": [
        "cb = CatBoostRegressor(n_estimators = 3000,\n",
        "                       learning_rate = 0.01,\n",
        "                       rsm = 0.4, ## Analogous to colsample_bytree\n",
        "                       random_state=2054,\n",
        "                       )\n",
        "\n",
        "fit_params = {'verbose': 200, 'early_stopping_rounds': 200}\n",
        "\n",
        "cb_oofs, cb_preds, fi = run_gradient_boosting(cb, fit_params, trainPro, testPro, cat_num_cols)"
      ],
      "execution_count": null,
      "outputs": []
    },
    {
      "cell_type": "code",
      "metadata": {
        "id": "4kDWWnyfgDEZ"
      },
      "source": [
        "# cb_preds_t = np.expm1(cb_preds) \n",
        "# download_preds(cb_preds_t, file_name = 's15_cb.csv')  \n",
        "!mv s15_cb.csv '/content/MyDrive/My Drive/Data Science/Machine Hack/Housing Price Prediction 2020/Submission Files'"
      ],
      "execution_count": null,
      "outputs": []
    },
    {
      "cell_type": "code",
      "metadata": {
        "id": "fLuuldvAejWQ"
      },
      "source": [
        "xgb = XGBRegressor(n_estimators = 1000,\n",
        "                    max_depth = 6,\n",
        "                    learning_rate = 0.05,\n",
        "                    colsample_bytree = 0.5,\n",
        "                    random_state=1452,\n",
        "                    )\n",
        "\n",
        "fit_params = {'verbose': 200, 'early_stopping_rounds': 200}\n",
        "\n",
        "xgb_oofs, xgb_preds, fi = run_gradient_boosting(xgb, fit_params, trainPro, testPro, cat_num_cols)"
      ],
      "execution_count": null,
      "outputs": []
    },
    {
      "cell_type": "code",
      "metadata": {
        "id": "PW2AsBn5e1Sn"
      },
      "source": [
        "xgb_preds_t = np.expm1(xgb_preds)\n",
        "# download_preds(xgb_preds_t, file_name = 's21_xgb_nlp.csv')   \n",
        "\n",
        "# !mv s21_xgb_nlp.csv '/content/MyDrive/My Drive/Data Science/Machine Hack/Housing Price Prediction 2020/Submission Files'"
      ],
      "execution_count": null,
      "outputs": []
    },
    {
      "cell_type": "markdown",
      "metadata": {
        "id": "yVDb5DizhJ3V"
      },
      "source": [
        "# Blend Models"
      ]
    },
    {
      "cell_type": "code",
      "metadata": {
        "id": "2ah7B47XgwKL"
      },
      "source": [
        "def blend_models_predict():\n",
        "   return (\n",
        "       (0.6 * lgb_preds_t) + \n",
        "           (0.4 * xgb_preds_t) \n",
        "          #  (0.2 * cb_preds_t)\n",
        "          )"
      ],
      "execution_count": null,
      "outputs": []
    },
    {
      "cell_type": "code",
      "metadata": {
        "id": "HWYvEY-XhocT"
      },
      "source": [
        "blend = blend_models_predict()"
      ],
      "execution_count": null,
      "outputs": []
    },
    {
      "cell_type": "code",
      "metadata": {
        "id": "OCCLyT1Phs_e"
      },
      "source": [
        "# download_preds(blend, file_name = 's24_blend.csv')   \n",
        "\n",
        "!mv s24_blend.csv '/content/MyDrive/My Drive/Data Science/Machine Hack/Housing Price Prediction 2020/Submission Files'"
      ],
      "execution_count": null,
      "outputs": []
    },
    {
      "cell_type": "code",
      "metadata": {
        "id": "hi1qRFRYiBBT"
      },
      "source": [
        ""
      ],
      "execution_count": null,
      "outputs": []
    }
  ]
}